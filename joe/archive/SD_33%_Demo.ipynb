{
 "cells": [
  {
   "cell_type": "code",
   "execution_count": 1,
   "metadata": {
    "collapsed": false
   },
   "outputs": [],
   "source": [
    "import pandas as pd;\n",
    "import numpy as np;\n",
    "import json;\n",
    "import matplotlib.pyplot as plt;\n",
    "%matplotlib inline\n",
    "\n",
    "# import sys\n",
    "# print (sys.argv[1])"
   ]
  },
  {
   "cell_type": "code",
   "execution_count": 2,
   "metadata": {
    "collapsed": false
   },
   "outputs": [],
   "source": [
    "rawJSON = json.loads(\"\".join(open('keystrokes-34c38-export (7).json').readlines()))"
   ]
  },
  {
   "cell_type": "code",
   "execution_count": 3,
   "metadata": {
    "collapsed": false
   },
   "outputs": [],
   "source": [
    "def calculatePerKeyDwellTime(dataframe,DEBUG=False):\n",
    "    dwell_times = {}\n",
    "    for i in set(dataframe.key.unique()):\n",
    "        if(DEBUG):\n",
    "            print (i);\n",
    "        running_average = 0;\n",
    "        subset = dataframe[dataframe['key'] == i];\n",
    "        if(len(dataframe[dataframe['key']==i])%2==0):\n",
    "            for g in range(len(subset)-1):\n",
    "                running_average+=(float(subset.iloc[g+1]['timestamp']) - float(subset.iloc[g]['timestamp']));\n",
    "            if(DEBUG):\n",
    "                print (\"running average: \"+str(running_average));\n",
    "            running_average/=len(subset);\n",
    "            if(DEBUG):\n",
    "                print (\"running average/subset_len = \"+str(running_average));\n",
    "        else: # last key release not recorded\n",
    "            for g in range(len(subset)-2):\n",
    "                running_average+=(float(subset.iloc[g+1]['timestamp']) - float(subset.iloc[g]['timestamp']));\n",
    "            running_average/=len(subset);\n",
    "        dwell_times[i] = running_average;\n",
    "        if(DEBUG):\n",
    "            print (\" \");\n",
    "    return dwell_times;    \n",
    "\n",
    "\n",
    "def calculateFlightTime(dataframe):\n",
    "#     time between release and next key press\n",
    "    flight_times = [];\n",
    "    index_of_releases = ((dataframe[dataframe['action']=='RELEASED']).index.tolist());\n",
    "    range_of_events = list(range(index_of_releases[0], index_of_releases[-1]));\n",
    "    index_of_presses = list(set(range_of_events).difference(index_of_releases));\n",
    "    try:\n",
    "        first_press = index_of_presses[0];\n",
    "#         print (index_of_presses)\n",
    "    except:\n",
    "        return False;\n",
    "    while (index_of_presses[0]<index_of_releases[0]):\n",
    "        del index_of_releases[0];\n",
    "    while(len(index_of_presses)>0):\n",
    "        flight_times.append((float(dataframe['timestamp'].iloc[index_of_presses[0]]) - float(dataframe['timestamp'].iloc[index_of_releases[0]])));\n",
    "        del index_of_releases[0]\n",
    "        del index_of_presses[0]\n",
    "    return flight_times;"
   ]
  },
  {
   "cell_type": "code",
   "execution_count": 4,
   "metadata": {
    "collapsed": false
   },
   "outputs": [],
   "source": [
    "keystrokes=pd.DataFrame.from_dict(rawJSON)\n",
    "obj = (keystrokes[:1]['samples'])\n",
    "keystrokes=pd.DataFrame.from_dict(rawJSON['samples']).T"
   ]
  },
  {
   "cell_type": "code",
   "execution_count": 5,
   "metadata": {
    "collapsed": false,
    "scrolled": true
   },
   "outputs": [],
   "source": [
    "# Just the new records\n",
    "lorem_ipsum = keystrokes.iloc[22:]"
   ]
  },
  {
   "cell_type": "code",
   "execution_count": 6,
   "metadata": {
    "collapsed": false
   },
   "outputs": [
    {
     "data": {
      "text/html": [
       "<div>\n",
       "<table border=\"1\" class=\"dataframe\">\n",
       "  <thead>\n",
       "    <tr style=\"text-align: right;\">\n",
       "      <th></th>\n",
       "      <th>keystrokes</th>\n",
       "      <th>subject</th>\n",
       "    </tr>\n",
       "  </thead>\n",
       "  <tbody>\n",
       "    <tr>\n",
       "      <th>-KXcfQLt3sL8sFQLSA25</th>\n",
       "      <td>[[\"1480298596527 Shift PRESSED\",\"1480298597351...</td>\n",
       "      <td>An Dee</td>\n",
       "    </tr>\n",
       "    <tr>\n",
       "      <th>-KXchppS19K4bkiMZIho</th>\n",
       "      <td>[[\"1480299235028 Shift PRESSED\",\"1480299235217...</td>\n",
       "      <td>Joseph Haaga</td>\n",
       "    </tr>\n",
       "  </tbody>\n",
       "</table>\n",
       "</div>"
      ],
      "text/plain": [
       "                                                             keystrokes  \\\n",
       "-KXcfQLt3sL8sFQLSA25  [[\"1480298596527 Shift PRESSED\",\"1480298597351...   \n",
       "-KXchppS19K4bkiMZIho  [[\"1480299235028 Shift PRESSED\",\"1480299235217...   \n",
       "\n",
       "                           subject  \n",
       "-KXcfQLt3sL8sFQLSA25        An Dee  \n",
       "-KXchppS19K4bkiMZIho  Joseph Haaga  "
      ]
     },
     "execution_count": 6,
     "metadata": {},
     "output_type": "execute_result"
    }
   ],
   "source": [
    "lorem_ipsum"
   ]
  },
  {
   "cell_type": "code",
   "execution_count": 7,
   "metadata": {
    "collapsed": false
   },
   "outputs": [],
   "source": [
    "left_DwellTimes = [];\n",
    "right_DwellTimes=[];\n",
    "space_DwellTimes=[];\n",
    "left_hand_keys = ['q','w','e','r','g','a','s','d','f','g','z','x','c','v'];\n",
    "# for n in calculatePerKeyDwellTime(split):\n",
    "#     if(calculatePerKeyDwellTime(split)[n] != 0 ):\n",
    "#         if n.lower() in left_hand_keys:\n",
    "#             left_DwellTimes.append(calculatePerKeyDwellTime(split)[n]);\n",
    "#         elif n.lower() == 'spacebar':\n",
    "#             space_DwellTimes.append(calculatePerKeyDwellTime(split)[n]);\n",
    "#         else:\n",
    "#             right_DwellTimes.append(calculatePerKeyDwellTime(split)[n]);"
   ]
  },
  {
   "cell_type": "code",
   "execution_count": 8,
   "metadata": {
    "collapsed": false
   },
   "outputs": [],
   "source": [
    "# right_DwellTimes\n",
    "# space_DwellTimes\n",
    "number_of_chars_per_observation = 20"
   ]
  },
  {
   "cell_type": "code",
   "execution_count": 9,
   "metadata": {
    "collapsed": false
   },
   "outputs": [
    {
     "data": {
      "text/plain": [
       "<matplotlib.axes._subplots.AxesSubplot at 0x117ef0710>"
      ]
     },
     "execution_count": 9,
     "metadata": {},
     "output_type": "execute_result"
    },
    {
     "data": {
      "image/png": "[encoded data removed]",
      "text/plain": [
       "<matplotlib.figure.Figure at 0x117efd8d0>"
      ]
     },
     "metadata": {},
     "output_type": "display_data"
    }
   ],
   "source": [
    "#  .o88o. 8888o. 8888o. 88  88 \n",
    "#  88  88 88  88 88  88 88  88 \n",
    "#  888888 88  88 88  88 'Y8888 \n",
    "#  88  88 88  88 88  88     88 \n",
    "#  88  88 88  88 8888Y' 8888Y' \n",
    "\n",
    "left_hand_keys = ['q','w','e','r','g','a','s','d','f','g','z','x','c','v'];\n",
    "\n",
    "subject_lorem_keystrokes = json.loads(lorem_ipsum['keystrokes'].iloc[0])[0]\n",
    "len(subject_lorem_keystrokes)\n",
    "# There are 1456 keystroke events. We will divide these into groups of 16, giving us 91 records\n",
    "split_keystrokes = [subject_lorem_keystrokes[x:x+15] for x in range(0, len(subject_lorem_keystrokes),number_of_chars_per_observation)]\n",
    "\n",
    "descriptive_stats = [];\n",
    "for n in split_keystrokes:\n",
    "    left_DwellTimes = [];\n",
    "    right_DwellTimes=[];\n",
    "    space_DwellTimes=[];\n",
    "    split_list=[];\n",
    "    raw = pd.DataFrame(n);\n",
    "    for n in raw.index:\n",
    "        split_list.append(raw[0][n].split(\" \"));\n",
    "    split = pd.DataFrame(split_list,columns=['timestamp','key','action']);\n",
    "    \n",
    "    for n in calculatePerKeyDwellTime(split):\n",
    "        if(calculatePerKeyDwellTime(split)[n] != 0 ):\n",
    "            if n.lower() in left_hand_keys:\n",
    "                left_DwellTimes.append(calculatePerKeyDwellTime(split)[n]);\n",
    "            elif n.lower() == 'spacebar':\n",
    "                space_DwellTimes.append(calculatePerKeyDwellTime(split)[n]);\n",
    "            else:\n",
    "                right_DwellTimes.append(calculatePerKeyDwellTime(split)[n]);\n",
    "#     results = list(pd.Series(list(calculatePerKeyDwellTime(split).values())).describe())[1:];\n",
    "    results = list(pd.Series(list(left_DwellTimes)).describe())[1:];\n",
    "#     results+=((list(pd.Series(calculateFlightTime(split)).describe())[1:]))\n",
    "    results += list(pd.Series(list(right_DwellTimes)).describe())[1:];\n",
    "    results += list(pd.Series(list(space_DwellTimes)).describe())[1:];\n",
    "    results += ((list(pd.Series(calculateFlightTime(split)).describe())[1:]))\n",
    "    descriptive_stats.append(results);\n",
    "    \n",
    "andy = pd.DataFrame(descriptive_stats);\n",
    "andy['subject'] = 'Andy';\n",
    "\n",
    "andy.plot()"
   ]
  },
  {
   "cell_type": "code",
   "execution_count": 10,
   "metadata": {
    "collapsed": false,
    "scrolled": true
   },
   "outputs": [
    {
     "data": {
      "text/plain": [
       "<matplotlib.axes._subplots.AxesSubplot at 0x11aabd0b8>"
      ]
     },
     "execution_count": 10,
     "metadata": {},
     "output_type": "execute_result"
    },
    {
     "data": {
      "image/png": "[encoded data removed]",
      "text/plain": [
       "<matplotlib.figure.Figure at 0x11ab17860>"
      ]
     },
     "metadata": {},
     "output_type": "display_data"
    }
   ],
   "source": [
    "#      88 .o88o. 888888 \n",
    "#      88 88  88 88     \n",
    "#      88 88  88 8888   \n",
    "#  88  88 88  88 88     \n",
    "#  'Y88Y' 'Y88Y' 888888 \n",
    "\n",
    "left_hand_keys = ['q','w','e','r','g','a','s','d','f','g','z','x','c','v'];\n",
    "\n",
    "subject_lorem_keystrokes = json.loads(lorem_ipsum['keystrokes'].iloc[0])[0]\n",
    "len(subject_lorem_keystrokes)\n",
    "# There are 1456 keystroke events. We will divide these into groups of 16, giving us 91 records\n",
    "split_keystrokes = [subject_lorem_keystrokes[x:x+15] for x in range(0, len(subject_lorem_keystrokes),16)]\n",
    "\n",
    "descriptive_stats = [];\n",
    "for n in split_keystrokes:\n",
    "#     print (' ');\n",
    "    left_DwellTimes = [];\n",
    "    right_DwellTimes=[];\n",
    "    space_DwellTimes=[];\n",
    "    split_list=[];\n",
    "    raw = pd.DataFrame(n);\n",
    "    for n in raw.index:\n",
    "        split_list.append(raw[0][n].split(\" \"));\n",
    "    split = pd.DataFrame(split_list,columns=['timestamp','key','action']);\n",
    "    \n",
    "    for n in calculatePerKeyDwellTime(split):\n",
    "        if(calculatePerKeyDwellTime(split)[n] != 0 ):\n",
    "            if n.lower() in left_hand_keys:\n",
    "                left_DwellTimes.append(calculatePerKeyDwellTime(split)[n]);\n",
    "            elif n.lower() == 'spacebar':\n",
    "                space_DwellTimes.append(calculatePerKeyDwellTime(split)[n]);\n",
    "            else:\n",
    "                right_DwellTimes.append(calculatePerKeyDwellTime(split)[n]);\n",
    "#     results = list(pd.Series(list(calculatePerKeyDwellTime(split).values())).describe())[1:];\n",
    "    results = list(pd.Series(list(left_DwellTimes)).describe())[1:];\n",
    "#     print (list(pd.Series(list(left_DwellTimes)).describe())[1:])\n",
    "#     results+=((list(pd.Series(calculateFlightTime(split)).describe())[1:]))\n",
    "    results += list(pd.Series(list(right_DwellTimes)).describe())[1:];\n",
    "#     print ()\n",
    "#     print (list(pd.Series(list(right_DwellTimes)).describe())[1:])\n",
    "    results += list(pd.Series(list(space_DwellTimes)).describe())[1:];\n",
    "#     print ()\n",
    "#     print (list(pd.Series(list(space_DwellTimes)).describe())[1:])\n",
    "    results += ((list(pd.Series(calculateFlightTime(split)).describe())[1:]))\n",
    "#     print ()\n",
    "#     print ((list(pd.Series(calculateFlightTime(split)).describe())[1:]))\n",
    "    descriptive_stats.append(results);\n",
    "#     print (len(descriptive_stats))\n",
    "    \n",
    "joe = pd.DataFrame(descriptive_stats);\n",
    "joe['subject'] = 'Joe';\n",
    "\n",
    "joe.plot()"
   ]
  },
  {
   "cell_type": "code",
   "execution_count": 11,
   "metadata": {
    "collapsed": false
   },
   "outputs": [
    {
     "data": {
      "text/plain": [
       "0.75"
      ]
     },
     "execution_count": 11,
     "metadata": {},
     "output_type": "execute_result"
    }
   ],
   "source": [
    "sample_descriptive_stats = pd.Series(list(calculatePerKeyDwellTime(split).values())).describe()\n",
    "sample_descriptive_stats['max']-sample_descriptive_stats['50%']"
   ]
  },
  {
   "cell_type": "code",
   "execution_count": 12,
   "metadata": {
    "collapsed": false,
    "scrolled": true
   },
   "outputs": [],
   "source": [
    "# combine Joe & Andy\n",
    "master = joe.append(andy);\n",
    "master = master.reset_index();\n",
    "answers = master['subject'];\n",
    "X = master.drop('subject',axis=1);\n",
    "# X"
   ]
  },
  {
   "cell_type": "code",
   "execution_count": 13,
   "metadata": {
    "collapsed": false
   },
   "outputs": [],
   "source": [
    "ft_labels = [\"flightTime \"+n for n in list(pd.Series([1,2,3,4]).describe()[1:].keys())]\n",
    "dt_labels = [\"dwellTime \"+n for n in list(pd.Series([1,2,3,4]).describe()[1:].keys())]\n"
   ]
  },
  {
   "cell_type": "code",
   "execution_count": 14,
   "metadata": {
    "collapsed": false
   },
   "outputs": [],
   "source": [
    "labels = dt_labels + ft_labels"
   ]
  },
  {
   "cell_type": "code",
   "execution_count": 15,
   "metadata": {
    "collapsed": false
   },
   "outputs": [
    {
     "data": {
      "text/plain": [
       "<matplotlib.collections.PathCollection at 0x11af25240>"
      ]
     },
     "execution_count": 15,
     "metadata": {},
     "output_type": "execute_result"
    },
    {
     "data": {
      "image/png": "[encoded data removed]",
      "text/plain": [
       "<matplotlib.figure.Figure at 0x117ed3b70>"
      ]
     },
     "metadata": {},
     "output_type": "display_data"
    }
   ],
   "source": [
    "feature1 = 13\n",
    "\n",
    "feature2 = 4\n",
    "plt.scatter(joe[feature1], joe[feature2], c='red')\n",
    "plt.scatter(andy[feature1], andy[feature2],c='blue')"
   ]
  },
  {
   "cell_type": "code",
   "execution_count": 16,
   "metadata": {
    "collapsed": false,
    "scrolled": true
   },
   "outputs": [],
   "source": [
    "joe = joe.fillna(value=0)\n",
    "andy = andy.fillna(value=0)"
   ]
  },
  {
   "cell_type": "code",
   "execution_count": 65,
   "metadata": {
    "collapsed": false
   },
   "outputs": [
    {
     "data": {
      "text/plain": [
       "<matplotlib.collections.PathCollection at 0x11ff8ac88>"
      ]
     },
     "execution_count": 65,
     "metadata": {},
     "output_type": "execute_result"
    },
    {
     "data": {
      "image/png": "[encoded data removed]",
      "text/plain": [
       "<matplotlib.figure.Figure at 0x11fe64198>"
      ]
     },
     "metadata": {},
     "output_type": "display_data"
    }
   ],
   "source": [
    "p1=4\n",
    "p2=13\n",
    "\n",
    "plt.scatter(joe[p1], joe[p2], c='red')\n",
    "plt.scatter(andy[p1], andy[p2],c='blue')"
   ]
  },
  {
   "cell_type": "code",
   "execution_count": 18,
   "metadata": {
    "collapsed": true
   },
   "outputs": [],
   "source": [
    "master = joe.append(andy);\n",
    "master = master.reset_index();\n",
    "answers = master['subject'];\n",
    "X = master.drop('subject',axis=1);"
   ]
  },
  {
   "cell_type": "code",
   "execution_count": 19,
   "metadata": {
    "collapsed": true
   },
   "outputs": [],
   "source": [
    "from sklearn.model_selection import train_test_split\n",
    "X_train, X_test, y_train, y_test = train_test_split(X, answers, test_size=0.33, random_state=42)"
   ]
  },
  {
   "cell_type": "code",
   "execution_count": 20,
   "metadata": {
    "collapsed": false
   },
   "outputs": [
    {
     "data": {
      "text/plain": [
       "index           47\n",
       "0          59.6667\n",
       "1          28.2857\n",
       "2             39.5\n",
       "3             43.5\n",
       "4             47.5\n",
       "5            69.75\n",
       "6               92\n",
       "7          62.8333\n",
       "8          19.1855\n",
       "9               48\n",
       "10              52\n",
       "11              56\n",
       "12           70.25\n",
       "13            84.5\n",
       "14         45.3333\n",
       "15               0\n",
       "16         45.3333\n",
       "17         45.3333\n",
       "18         45.3333\n",
       "19         45.3333\n",
       "20         45.3333\n",
       "21           102.6\n",
       "22         55.5905\n",
       "23               8\n",
       "24             105\n",
       "25             119\n",
       "26             129\n",
       "27             152\n",
       "subject        Joe\n",
       "Name: 47, dtype: object"
      ]
     },
     "execution_count": 20,
     "metadata": {},
     "output_type": "execute_result"
    }
   ],
   "source": [
    "master.iloc[47]"
   ]
  },
  {
   "cell_type": "code",
   "execution_count": 21,
   "metadata": {
    "collapsed": false
   },
   "outputs": [
    {
     "data": {
      "text/html": [
       "<div>\n",
       "<table border=\"1\" class=\"dataframe\">\n",
       "  <thead>\n",
       "    <tr style=\"text-align: right;\">\n",
       "      <th></th>\n",
       "      <th>index</th>\n",
       "      <th>0</th>\n",
       "      <th>1</th>\n",
       "      <th>2</th>\n",
       "      <th>3</th>\n",
       "      <th>4</th>\n",
       "      <th>5</th>\n",
       "      <th>6</th>\n",
       "      <th>7</th>\n",
       "      <th>8</th>\n",
       "      <th>...</th>\n",
       "      <th>17</th>\n",
       "      <th>18</th>\n",
       "      <th>19</th>\n",
       "      <th>20</th>\n",
       "      <th>21</th>\n",
       "      <th>23</th>\n",
       "      <th>24</th>\n",
       "      <th>25</th>\n",
       "      <th>26</th>\n",
       "      <th>27</th>\n",
       "    </tr>\n",
       "  </thead>\n",
       "  <tbody>\n",
       "    <tr>\n",
       "      <th>count</th>\n",
       "      <td>105.000000</td>\n",
       "      <td>105.000000</td>\n",
       "      <td>105.000000</td>\n",
       "      <td>105.000000</td>\n",
       "      <td>105.000000</td>\n",
       "      <td>105.000000</td>\n",
       "      <td>105.000000</td>\n",
       "      <td>105.000000</td>\n",
       "      <td>105.000000</td>\n",
       "      <td>105.000000</td>\n",
       "      <td>...</td>\n",
       "      <td>105.000000</td>\n",
       "      <td>105.000000</td>\n",
       "      <td>105.000000</td>\n",
       "      <td>105.000000</td>\n",
       "      <td>105.000000</td>\n",
       "      <td>105.000000</td>\n",
       "      <td>105.000000</td>\n",
       "      <td>105.000000</td>\n",
       "      <td>105.000000</td>\n",
       "      <td>105.000000</td>\n",
       "    </tr>\n",
       "    <tr>\n",
       "      <th>mean</th>\n",
       "      <td>37.742857</td>\n",
       "      <td>61.449021</td>\n",
       "      <td>18.292083</td>\n",
       "      <td>47.634921</td>\n",
       "      <td>53.426389</td>\n",
       "      <td>59.247222</td>\n",
       "      <td>68.321151</td>\n",
       "      <td>77.564127</td>\n",
       "      <td>74.792341</td>\n",
       "      <td>25.337967</td>\n",
       "      <td>...</td>\n",
       "      <td>67.724603</td>\n",
       "      <td>67.724603</td>\n",
       "      <td>67.724603</td>\n",
       "      <td>67.724603</td>\n",
       "      <td>121.751338</td>\n",
       "      <td>29.752381</td>\n",
       "      <td>74.416667</td>\n",
       "      <td>116.276190</td>\n",
       "      <td>162.573810</td>\n",
       "      <td>231.428571</td>\n",
       "    </tr>\n",
       "    <tr>\n",
       "      <th>std</th>\n",
       "      <td>24.042442</td>\n",
       "      <td>41.603307</td>\n",
       "      <td>40.086703</td>\n",
       "      <td>29.994578</td>\n",
       "      <td>33.034233</td>\n",
       "      <td>40.732037</td>\n",
       "      <td>52.477390</td>\n",
       "      <td>67.064789</td>\n",
       "      <td>51.484031</td>\n",
       "      <td>33.238148</td>\n",
       "      <td>...</td>\n",
       "      <td>51.146528</td>\n",
       "      <td>51.146528</td>\n",
       "      <td>51.146528</td>\n",
       "      <td>51.146528</td>\n",
       "      <td>87.936317</td>\n",
       "      <td>67.250219</td>\n",
       "      <td>73.023258</td>\n",
       "      <td>87.967241</td>\n",
       "      <td>124.358802</td>\n",
       "      <td>153.263402</td>\n",
       "    </tr>\n",
       "    <tr>\n",
       "      <th>min</th>\n",
       "      <td>0.000000</td>\n",
       "      <td>0.000000</td>\n",
       "      <td>0.000000</td>\n",
       "      <td>0.000000</td>\n",
       "      <td>0.000000</td>\n",
       "      <td>0.000000</td>\n",
       "      <td>0.000000</td>\n",
       "      <td>0.000000</td>\n",
       "      <td>30.500000</td>\n",
       "      <td>0.000000</td>\n",
       "      <td>...</td>\n",
       "      <td>0.000000</td>\n",
       "      <td>0.000000</td>\n",
       "      <td>0.000000</td>\n",
       "      <td>0.000000</td>\n",
       "      <td>-17.000000</td>\n",
       "      <td>-167.000000</td>\n",
       "      <td>-92.000000</td>\n",
       "      <td>-19.500000</td>\n",
       "      <td>0.000000</td>\n",
       "      <td>0.000000</td>\n",
       "    </tr>\n",
       "    <tr>\n",
       "      <th>25%</th>\n",
       "      <td>17.000000</td>\n",
       "      <td>44.000000</td>\n",
       "      <td>0.000000</td>\n",
       "      <td>36.000000</td>\n",
       "      <td>41.000000</td>\n",
       "      <td>44.000000</td>\n",
       "      <td>44.000000</td>\n",
       "      <td>44.000000</td>\n",
       "      <td>50.500000</td>\n",
       "      <td>4.949747</td>\n",
       "      <td>...</td>\n",
       "      <td>42.500000</td>\n",
       "      <td>42.500000</td>\n",
       "      <td>42.500000</td>\n",
       "      <td>42.500000</td>\n",
       "      <td>57.333333</td>\n",
       "      <td>-16.000000</td>\n",
       "      <td>14.000000</td>\n",
       "      <td>52.000000</td>\n",
       "      <td>88.000000</td>\n",
       "      <td>128.000000</td>\n",
       "    </tr>\n",
       "    <tr>\n",
       "      <th>50%</th>\n",
       "      <td>36.000000</td>\n",
       "      <td>52.000000</td>\n",
       "      <td>5.656854</td>\n",
       "      <td>44.000000</td>\n",
       "      <td>48.750000</td>\n",
       "      <td>52.000000</td>\n",
       "      <td>55.375000</td>\n",
       "      <td>56.000000</td>\n",
       "      <td>61.000000</td>\n",
       "      <td>12.864680</td>\n",
       "      <td>...</td>\n",
       "      <td>52.500000</td>\n",
       "      <td>52.500000</td>\n",
       "      <td>52.500000</td>\n",
       "      <td>52.500000</td>\n",
       "      <td>115.000000</td>\n",
       "      <td>41.000000</td>\n",
       "      <td>77.000000</td>\n",
       "      <td>108.000000</td>\n",
       "      <td>140.000000</td>\n",
       "      <td>177.000000</td>\n",
       "    </tr>\n",
       "    <tr>\n",
       "      <th>75%</th>\n",
       "      <td>58.000000</td>\n",
       "      <td>70.000000</td>\n",
       "      <td>16.970563</td>\n",
       "      <td>55.500000</td>\n",
       "      <td>62.000000</td>\n",
       "      <td>68.000000</td>\n",
       "      <td>74.666667</td>\n",
       "      <td>87.500000</td>\n",
       "      <td>79.750000</td>\n",
       "      <td>27.858272</td>\n",
       "      <td>...</td>\n",
       "      <td>104.000000</td>\n",
       "      <td>104.000000</td>\n",
       "      <td>104.000000</td>\n",
       "      <td>104.000000</td>\n",
       "      <td>157.666667</td>\n",
       "      <td>80.000000</td>\n",
       "      <td>113.500000</td>\n",
       "      <td>158.000000</td>\n",
       "      <td>212.500000</td>\n",
       "      <td>304.000000</td>\n",
       "    </tr>\n",
       "    <tr>\n",
       "      <th>max</th>\n",
       "      <td>86.000000</td>\n",
       "      <td>272.250000</td>\n",
       "      <td>311.480537</td>\n",
       "      <td>204.000000</td>\n",
       "      <td>204.000000</td>\n",
       "      <td>272.250000</td>\n",
       "      <td>382.375000</td>\n",
       "      <td>492.500000</td>\n",
       "      <td>396.500000</td>\n",
       "      <td>132.137239</td>\n",
       "      <td>...</td>\n",
       "      <td>218.000000</td>\n",
       "      <td>218.000000</td>\n",
       "      <td>218.000000</td>\n",
       "      <td>218.000000</td>\n",
       "      <td>515.200000</td>\n",
       "      <td>152.000000</td>\n",
       "      <td>289.500000</td>\n",
       "      <td>496.000000</td>\n",
       "      <td>928.000000</td>\n",
       "      <td>984.000000</td>\n",
       "    </tr>\n",
       "  </tbody>\n",
       "</table>\n",
       "<p>8 rows × 28 columns</p>\n",
       "</div>"
      ],
      "text/plain": [
       "            index           0           1           2           3           4  \\\n",
       "count  105.000000  105.000000  105.000000  105.000000  105.000000  105.000000   \n",
       "mean    37.742857   61.449021   18.292083   47.634921   53.426389   59.247222   \n",
       "std     24.042442   41.603307   40.086703   29.994578   33.034233   40.732037   \n",
       "min      0.000000    0.000000    0.000000    0.000000    0.000000    0.000000   \n",
       "25%     17.000000   44.000000    0.000000   36.000000   41.000000   44.000000   \n",
       "50%     36.000000   52.000000    5.656854   44.000000   48.750000   52.000000   \n",
       "75%     58.000000   70.000000   16.970563   55.500000   62.000000   68.000000   \n",
       "max     86.000000  272.250000  311.480537  204.000000  204.000000  272.250000   \n",
       "\n",
       "                5           6           7           8     ...              17  \\\n",
       "count  105.000000  105.000000  105.000000  105.000000     ...      105.000000   \n",
       "mean    68.321151   77.564127   74.792341   25.337967     ...       67.724603   \n",
       "std     52.477390   67.064789   51.484031   33.238148     ...       51.146528   \n",
       "min      0.000000    0.000000   30.500000    0.000000     ...        0.000000   \n",
       "25%     44.000000   44.000000   50.500000    4.949747     ...       42.500000   \n",
       "50%     55.375000   56.000000   61.000000   12.864680     ...       52.500000   \n",
       "75%     74.666667   87.500000   79.750000   27.858272     ...      104.000000   \n",
       "max    382.375000  492.500000  396.500000  132.137239     ...      218.000000   \n",
       "\n",
       "               18          19          20          21          23          24  \\\n",
       "count  105.000000  105.000000  105.000000  105.000000  105.000000  105.000000   \n",
       "mean    67.724603   67.724603   67.724603  121.751338   29.752381   74.416667   \n",
       "std     51.146528   51.146528   51.146528   87.936317   67.250219   73.023258   \n",
       "min      0.000000    0.000000    0.000000  -17.000000 -167.000000  -92.000000   \n",
       "25%     42.500000   42.500000   42.500000   57.333333  -16.000000   14.000000   \n",
       "50%     52.500000   52.500000   52.500000  115.000000   41.000000   77.000000   \n",
       "75%    104.000000  104.000000  104.000000  157.666667   80.000000  113.500000   \n",
       "max    218.000000  218.000000  218.000000  515.200000  152.000000  289.500000   \n",
       "\n",
       "               25          26          27  \n",
       "count  105.000000  105.000000  105.000000  \n",
       "mean   116.276190  162.573810  231.428571  \n",
       "std     87.967241  124.358802  153.263402  \n",
       "min    -19.500000    0.000000    0.000000  \n",
       "25%     52.000000   88.000000  128.000000  \n",
       "50%    108.000000  140.000000  177.000000  \n",
       "75%    158.000000  212.500000  304.000000  \n",
       "max    496.000000  928.000000  984.000000  \n",
       "\n",
       "[8 rows x 28 columns]"
      ]
     },
     "execution_count": 21,
     "metadata": {},
     "output_type": "execute_result"
    }
   ],
   "source": [
    "X_train.describe()"
   ]
  },
  {
   "cell_type": "code",
   "execution_count": 22,
   "metadata": {
    "collapsed": false
   },
   "outputs": [
    {
     "data": {
      "text/plain": [
       "[0.18602931477610199,\n",
       " 0.079202409777302599,\n",
       " 0.089705053541236146,\n",
       " 0.0,\n",
       " 0.090302802589107292,\n",
       " 0.0,\n",
       " 0.0,\n",
       " 0.0,\n",
       " 0.047341724591395837,\n",
       " 0.062636697751908402,\n",
       " 0.014089798985534481,\n",
       " 0.0,\n",
       " 0.0065752395265827532,\n",
       " 0.0,\n",
       " 0.057640086759004679,\n",
       " 0.062454782737298251,\n",
       " 0.0,\n",
       " 0.0,\n",
       " 0.0,\n",
       " 0.0,\n",
       " 0.0098628592898741332,\n",
       " 0.066110258182645196,\n",
       " 0.18202229480592896,\n",
       " 0.0,\n",
       " 0.0,\n",
       " 0.019725718579748266,\n",
       " 0.0,\n",
       " 0.0,\n",
       " 0.02630095810633102]"
      ]
     },
     "execution_count": 22,
     "metadata": {},
     "output_type": "execute_result"
    }
   ],
   "source": [
    "from sklearn import tree\n",
    "clf = tree.DecisionTreeClassifier()\n",
    "clf = clf.fit(X_train, y_train)\n",
    "clf.score(X_test, y_test)\n",
    "list(clf.feature_importances_)"
   ]
  },
  {
   "cell_type": "code",
   "execution_count": 23,
   "metadata": {
    "collapsed": false
   },
   "outputs": [
    {
     "data": {
      "text/plain": [
       "0.53846153846153844"
      ]
     },
     "execution_count": 23,
     "metadata": {},
     "output_type": "execute_result"
    }
   ],
   "source": [
    "from sklearn.neural_network import MLPClassifier\n",
    "clf = MLPClassifier(solver='lbfgs', alpha=1e-5, hidden_layer_sizes=(10, 4), random_state=5)\n",
    "clf.fit(X_train, y_train)\n",
    "clf.score(X_test, y_test)"
   ]
  },
  {
   "cell_type": "code",
   "execution_count": 43,
   "metadata": {
    "collapsed": false,
    "scrolled": true
   },
   "outputs": [
    {
     "name": "stdout",
     "output_type": "stream",
     "text": [
      "[LibSVM]"
     ]
    },
    {
     "data": {
      "text/plain": [
       "0.53846153846153844"
      ]
     },
     "execution_count": 43,
     "metadata": {},
     "output_type": "execute_result"
    }
   ],
   "source": [
    "from sklearn.svm import SVC\n",
    "clf1 = SVC(C=1.0, verbose=True, probability=False, decision_function_shape='ovr', kernel='sigmoid')\n",
    "clf1.fit(X_train, y_train) \n",
    "# clf1.predict_proba(X_test)\n",
    "clf1.score(X_test,y_test)"
   ]
  },
  {
   "cell_type": "code",
   "execution_count": 25,
   "metadata": {
    "collapsed": false
   },
   "outputs": [
    {
     "name": "stderr",
     "output_type": "stream",
     "text": [
      "/Users/joseph/anaconda3/lib/python3.5/site-packages/sklearn/discriminant_analysis.py:387: UserWarning: Variables are collinear.\n",
      "  warnings.warn(\"Variables are collinear.\")\n"
     ]
    },
    {
     "data": {
      "text/plain": [
       "0.5"
      ]
     },
     "execution_count": 25,
     "metadata": {},
     "output_type": "execute_result"
    }
   ],
   "source": [
    "from sklearn.discriminant_analysis import LinearDiscriminantAnalysis\n",
    "clf = LinearDiscriminantAnalysis()\n",
    "clf.fit(X_train, y_train)\n",
    "LinearDiscriminantAnalysis(n_components=None, priors=None, shrinkage=None,\n",
    "              solver='svd', store_covariance=False, tol=0.0001)\n",
    "clf.score(X_test,y_test)"
   ]
  },
  {
   "cell_type": "code",
   "execution_count": 26,
   "metadata": {
    "collapsed": false
   },
   "outputs": [
    {
     "data": {
      "text/plain": [
       "0.55769230769230771"
      ]
     },
     "execution_count": 26,
     "metadata": {},
     "output_type": "execute_result"
    }
   ],
   "source": [
    "from sklearn.naive_bayes import GaussianNB\n",
    "clf = GaussianNB()\n",
    "clf.fit(X_train, y_train)\n",
    "GaussianNB(priors=None)\n",
    "clf.score(X_test,y_test)\n",
    "\n",
    "# clf.get_params()"
   ]
  },
  {
   "cell_type": "code",
   "execution_count": 27,
   "metadata": {
    "collapsed": false
   },
   "outputs": [
    {
     "data": {
      "text/plain": [
       "0.28846153846153844"
      ]
     },
     "execution_count": 27,
     "metadata": {},
     "output_type": "execute_result"
    }
   ],
   "source": [
    "from sklearn.ensemble import RandomForestClassifier\n",
    "clf = RandomForestClassifier(n_estimators=100, )\n",
    "clf = clf.fit(X_train, y_train)\n",
    "clf.score(X_test, y_test)"
   ]
  },
  {
   "cell_type": "code",
   "execution_count": 28,
   "metadata": {
    "collapsed": false
   },
   "outputs": [
    {
     "data": {
      "text/plain": [
       "0.34615384615384615"
      ]
     },
     "execution_count": 28,
     "metadata": {},
     "output_type": "execute_result"
    }
   ],
   "source": [
    "from sklearn.ensemble import GradientBoostingClassifier\n",
    "# clf = GradientBoostingClassifier(n_estimators=50, learning_rate=1.8, max_depth=5, random_state=0).fit(X_train, y_train)\n",
    "clf = GradientBoostingClassifier(n_estimators=50, learning_rate=1.8, max_depth=5, random_state=0).fit(X_train, y_train)\n",
    "clf.score(X_test, y_test) "
   ]
  },
  {
   "cell_type": "code",
   "execution_count": 29,
   "metadata": {
    "collapsed": false,
    "scrolled": true
   },
   "outputs": [],
   "source": [
    "# separate Dwell Time & Flight Time metrics for left hand and right hand\n",
    "left_hand_keys = ['q','w','e','r','g','a','s','d','f','g','z','x','c','v']"
   ]
  },
  {
   "cell_type": "code",
   "execution_count": 30,
   "metadata": {
    "collapsed": false
   },
   "outputs": [],
   "source": [
    "labels = ['index'] + labels + ['subject']"
   ]
  },
  {
   "cell_type": "code",
   "execution_count": 31,
   "metadata": {
    "collapsed": false
   },
   "outputs": [
    {
     "data": {
      "text/plain": [
       "['index',\n",
       " 'dwellTime mean',\n",
       " 'dwellTime std',\n",
       " 'dwellTime min',\n",
       " 'dwellTime 25%',\n",
       " 'dwellTime 50%',\n",
       " 'dwellTime 75%',\n",
       " 'dwellTime max',\n",
       " 'flightTime mean',\n",
       " 'flightTime std',\n",
       " 'flightTime min',\n",
       " 'flightTime 25%',\n",
       " 'flightTime 50%',\n",
       " 'flightTime 75%',\n",
       " 'flightTime max',\n",
       " 'subject']"
      ]
     },
     "execution_count": 31,
     "metadata": {},
     "output_type": "execute_result"
    }
   ],
   "source": [
    "labels"
   ]
  },
  {
   "cell_type": "code",
   "execution_count": 32,
   "metadata": {
    "collapsed": false
   },
   "outputs": [
    {
     "name": "stdout",
     "output_type": "stream",
     "text": [
      "index: 87\n",
      "0: 91\n",
      "1: 74\n",
      "2: 43\n",
      "3: 85\n",
      "4: 70\n",
      "5: 89\n",
      "6: 54\n",
      "7: 122\n",
      "8: 116\n",
      "9: 49\n",
      "10: 95\n",
      "11: 77\n",
      "12: 103\n",
      "13: 68\n",
      "14: 67\n",
      "15: 1\n",
      "16: 67\n",
      "17: 67\n",
      "18: 67\n",
      "19: 67\n",
      "20: 67\n",
      "21: 136\n",
      "22: 139\n",
      "23: 63\n",
      "24: 115\n",
      "25: 100\n",
      "26: 117\n",
      "27: 80\n",
      "subject: 2\n"
     ]
    }
   ],
   "source": [
    "for n in master:\n",
    "#     print (n+\" \"+master[n].value_counts())\n",
    "    print (str(n)+\": \"+str(len(master[n].value_counts())))"
   ]
  },
  {
   "cell_type": "code",
   "execution_count": 33,
   "metadata": {
    "collapsed": false
   },
   "outputs": [
    {
     "data": {
      "text/plain": [
       "157"
      ]
     },
     "execution_count": 33,
     "metadata": {},
     "output_type": "execute_result"
    }
   ],
   "source": [
    "len(master)"
   ]
  },
  {
   "cell_type": "code",
   "execution_count": 34,
   "metadata": {
    "collapsed": false,
    "scrolled": true
   },
   "outputs": [
    {
     "ename": "KeyError",
     "evalue": "'dwellTime 50%'",
     "output_type": "error",
     "traceback": [
      "\u001b[0;31m---------------------------------------------------------------------------\u001b[0m",
      "\u001b[0;31mKeyError\u001b[0m                                  Traceback (most recent call last)",
      "\u001b[0;32m/Users/joseph/anaconda3/lib/python3.5/site-packages/pandas/indexes/base.py\u001b[0m in \u001b[0;36mget_loc\u001b[0;34m(self, key, method, tolerance)\u001b[0m\n\u001b[1;32m   1944\u001b[0m             \u001b[0;32mtry\u001b[0m\u001b[0;34m:\u001b[0m\u001b[0;34m\u001b[0m\u001b[0m\n\u001b[0;32m-> 1945\u001b[0;31m                 \u001b[0;32mreturn\u001b[0m \u001b[0mself\u001b[0m\u001b[0;34m.\u001b[0m\u001b[0m_engine\u001b[0m\u001b[0;34m.\u001b[0m\u001b[0mget_loc\u001b[0m\u001b[0;34m(\u001b[0m\u001b[0mkey\u001b[0m\u001b[0;34m)\u001b[0m\u001b[0;34m\u001b[0m\u001b[0m\n\u001b[0m\u001b[1;32m   1946\u001b[0m             \u001b[0;32mexcept\u001b[0m \u001b[0mKeyError\u001b[0m\u001b[0;34m:\u001b[0m\u001b[0;34m\u001b[0m\u001b[0m\n",
      "\u001b[0;32mpandas/index.pyx\u001b[0m in \u001b[0;36mpandas.index.IndexEngine.get_loc (pandas/index.c:4154)\u001b[0;34m()\u001b[0m\n",
      "\u001b[0;32mpandas/index.pyx\u001b[0m in \u001b[0;36mpandas.index.IndexEngine.get_loc (pandas/index.c:4018)\u001b[0;34m()\u001b[0m\n",
      "\u001b[0;32mpandas/hashtable.pyx\u001b[0m in \u001b[0;36mpandas.hashtable.PyObjectHashTable.get_item (pandas/hashtable.c:12368)\u001b[0;34m()\u001b[0m\n",
      "\u001b[0;32mpandas/hashtable.pyx\u001b[0m in \u001b[0;36mpandas.hashtable.PyObjectHashTable.get_item (pandas/hashtable.c:12322)\u001b[0;34m()\u001b[0m\n",
      "\u001b[0;31mKeyError\u001b[0m: 'dwellTime 50%'",
      "\nDuring handling of the above exception, another exception occurred:\n",
      "\u001b[0;31mKeyError\u001b[0m                                  Traceback (most recent call last)",
      "\u001b[0;32m<ipython-input-34-5ae8c5d11dd9>\u001b[0m in \u001b[0;36m<module>\u001b[0;34m()\u001b[0m\n\u001b[0;32m----> 1\u001b[0;31m \u001b[0mmaster\u001b[0m\u001b[0;34m[\u001b[0m\u001b[0;34m'dwellTime 50%'\u001b[0m\u001b[0;34m]\u001b[0m\u001b[0;34m.\u001b[0m\u001b[0mvalue_counts\u001b[0m\u001b[0;34m(\u001b[0m\u001b[0;34m)\u001b[0m\u001b[0;34m\u001b[0m\u001b[0m\n\u001b[0m",
      "\u001b[0;32m/Users/joseph/anaconda3/lib/python3.5/site-packages/pandas/core/frame.py\u001b[0m in \u001b[0;36m__getitem__\u001b[0;34m(self, key)\u001b[0m\n\u001b[1;32m   1995\u001b[0m             \u001b[0;32mreturn\u001b[0m \u001b[0mself\u001b[0m\u001b[0;34m.\u001b[0m\u001b[0m_getitem_multilevel\u001b[0m\u001b[0;34m(\u001b[0m\u001b[0mkey\u001b[0m\u001b[0;34m)\u001b[0m\u001b[0;34m\u001b[0m\u001b[0m\n\u001b[1;32m   1996\u001b[0m         \u001b[0;32melse\u001b[0m\u001b[0;34m:\u001b[0m\u001b[0;34m\u001b[0m\u001b[0m\n\u001b[0;32m-> 1997\u001b[0;31m             \u001b[0;32mreturn\u001b[0m \u001b[0mself\u001b[0m\u001b[0;34m.\u001b[0m\u001b[0m_getitem_column\u001b[0m\u001b[0;34m(\u001b[0m\u001b[0mkey\u001b[0m\u001b[0;34m)\u001b[0m\u001b[0;34m\u001b[0m\u001b[0m\n\u001b[0m\u001b[1;32m   1998\u001b[0m \u001b[0;34m\u001b[0m\u001b[0m\n\u001b[1;32m   1999\u001b[0m     \u001b[0;32mdef\u001b[0m \u001b[0m_getitem_column\u001b[0m\u001b[0;34m(\u001b[0m\u001b[0mself\u001b[0m\u001b[0;34m,\u001b[0m \u001b[0mkey\u001b[0m\u001b[0;34m)\u001b[0m\u001b[0;34m:\u001b[0m\u001b[0;34m\u001b[0m\u001b[0m\n",
      "\u001b[0;32m/Users/joseph/anaconda3/lib/python3.5/site-packages/pandas/core/frame.py\u001b[0m in \u001b[0;36m_getitem_column\u001b[0;34m(self, key)\u001b[0m\n\u001b[1;32m   2002\u001b[0m         \u001b[0;31m# get column\u001b[0m\u001b[0;34m\u001b[0m\u001b[0;34m\u001b[0m\u001b[0m\n\u001b[1;32m   2003\u001b[0m         \u001b[0;32mif\u001b[0m \u001b[0mself\u001b[0m\u001b[0;34m.\u001b[0m\u001b[0mcolumns\u001b[0m\u001b[0;34m.\u001b[0m\u001b[0mis_unique\u001b[0m\u001b[0;34m:\u001b[0m\u001b[0;34m\u001b[0m\u001b[0m\n\u001b[0;32m-> 2004\u001b[0;31m             \u001b[0;32mreturn\u001b[0m \u001b[0mself\u001b[0m\u001b[0;34m.\u001b[0m\u001b[0m_get_item_cache\u001b[0m\u001b[0;34m(\u001b[0m\u001b[0mkey\u001b[0m\u001b[0;34m)\u001b[0m\u001b[0;34m\u001b[0m\u001b[0m\n\u001b[0m\u001b[1;32m   2005\u001b[0m \u001b[0;34m\u001b[0m\u001b[0m\n\u001b[1;32m   2006\u001b[0m         \u001b[0;31m# duplicate columns & possible reduce dimensionality\u001b[0m\u001b[0;34m\u001b[0m\u001b[0;34m\u001b[0m\u001b[0m\n",
      "\u001b[0;32m/Users/joseph/anaconda3/lib/python3.5/site-packages/pandas/core/generic.py\u001b[0m in \u001b[0;36m_get_item_cache\u001b[0;34m(self, item)\u001b[0m\n\u001b[1;32m   1348\u001b[0m         \u001b[0mres\u001b[0m \u001b[0;34m=\u001b[0m \u001b[0mcache\u001b[0m\u001b[0;34m.\u001b[0m\u001b[0mget\u001b[0m\u001b[0;34m(\u001b[0m\u001b[0mitem\u001b[0m\u001b[0;34m)\u001b[0m\u001b[0;34m\u001b[0m\u001b[0m\n\u001b[1;32m   1349\u001b[0m         \u001b[0;32mif\u001b[0m \u001b[0mres\u001b[0m \u001b[0;32mis\u001b[0m \u001b[0;32mNone\u001b[0m\u001b[0;34m:\u001b[0m\u001b[0;34m\u001b[0m\u001b[0m\n\u001b[0;32m-> 1350\u001b[0;31m             \u001b[0mvalues\u001b[0m \u001b[0;34m=\u001b[0m \u001b[0mself\u001b[0m\u001b[0;34m.\u001b[0m\u001b[0m_data\u001b[0m\u001b[0;34m.\u001b[0m\u001b[0mget\u001b[0m\u001b[0;34m(\u001b[0m\u001b[0mitem\u001b[0m\u001b[0;34m)\u001b[0m\u001b[0;34m\u001b[0m\u001b[0m\n\u001b[0m\u001b[1;32m   1351\u001b[0m             \u001b[0mres\u001b[0m \u001b[0;34m=\u001b[0m \u001b[0mself\u001b[0m\u001b[0;34m.\u001b[0m\u001b[0m_box_item_values\u001b[0m\u001b[0;34m(\u001b[0m\u001b[0mitem\u001b[0m\u001b[0;34m,\u001b[0m \u001b[0mvalues\u001b[0m\u001b[0;34m)\u001b[0m\u001b[0;34m\u001b[0m\u001b[0m\n\u001b[1;32m   1352\u001b[0m             \u001b[0mcache\u001b[0m\u001b[0;34m[\u001b[0m\u001b[0mitem\u001b[0m\u001b[0;34m]\u001b[0m \u001b[0;34m=\u001b[0m \u001b[0mres\u001b[0m\u001b[0;34m\u001b[0m\u001b[0m\n",
      "\u001b[0;32m/Users/joseph/anaconda3/lib/python3.5/site-packages/pandas/core/internals.py\u001b[0m in \u001b[0;36mget\u001b[0;34m(self, item, fastpath)\u001b[0m\n\u001b[1;32m   3288\u001b[0m \u001b[0;34m\u001b[0m\u001b[0m\n\u001b[1;32m   3289\u001b[0m             \u001b[0;32mif\u001b[0m \u001b[0;32mnot\u001b[0m \u001b[0misnull\u001b[0m\u001b[0;34m(\u001b[0m\u001b[0mitem\u001b[0m\u001b[0;34m)\u001b[0m\u001b[0;34m:\u001b[0m\u001b[0;34m\u001b[0m\u001b[0m\n\u001b[0;32m-> 3290\u001b[0;31m                 \u001b[0mloc\u001b[0m \u001b[0;34m=\u001b[0m \u001b[0mself\u001b[0m\u001b[0;34m.\u001b[0m\u001b[0mitems\u001b[0m\u001b[0;34m.\u001b[0m\u001b[0mget_loc\u001b[0m\u001b[0;34m(\u001b[0m\u001b[0mitem\u001b[0m\u001b[0;34m)\u001b[0m\u001b[0;34m\u001b[0m\u001b[0m\n\u001b[0m\u001b[1;32m   3291\u001b[0m             \u001b[0;32melse\u001b[0m\u001b[0;34m:\u001b[0m\u001b[0;34m\u001b[0m\u001b[0m\n\u001b[1;32m   3292\u001b[0m                 \u001b[0mindexer\u001b[0m \u001b[0;34m=\u001b[0m \u001b[0mnp\u001b[0m\u001b[0;34m.\u001b[0m\u001b[0marange\u001b[0m\u001b[0;34m(\u001b[0m\u001b[0mlen\u001b[0m\u001b[0;34m(\u001b[0m\u001b[0mself\u001b[0m\u001b[0;34m.\u001b[0m\u001b[0mitems\u001b[0m\u001b[0;34m)\u001b[0m\u001b[0;34m)\u001b[0m\u001b[0;34m[\u001b[0m\u001b[0misnull\u001b[0m\u001b[0;34m(\u001b[0m\u001b[0mself\u001b[0m\u001b[0;34m.\u001b[0m\u001b[0mitems\u001b[0m\u001b[0;34m)\u001b[0m\u001b[0;34m]\u001b[0m\u001b[0;34m\u001b[0m\u001b[0m\n",
      "\u001b[0;32m/Users/joseph/anaconda3/lib/python3.5/site-packages/pandas/indexes/base.py\u001b[0m in \u001b[0;36mget_loc\u001b[0;34m(self, key, method, tolerance)\u001b[0m\n\u001b[1;32m   1945\u001b[0m                 \u001b[0;32mreturn\u001b[0m \u001b[0mself\u001b[0m\u001b[0;34m.\u001b[0m\u001b[0m_engine\u001b[0m\u001b[0;34m.\u001b[0m\u001b[0mget_loc\u001b[0m\u001b[0;34m(\u001b[0m\u001b[0mkey\u001b[0m\u001b[0;34m)\u001b[0m\u001b[0;34m\u001b[0m\u001b[0m\n\u001b[1;32m   1946\u001b[0m             \u001b[0;32mexcept\u001b[0m \u001b[0mKeyError\u001b[0m\u001b[0;34m:\u001b[0m\u001b[0;34m\u001b[0m\u001b[0m\n\u001b[0;32m-> 1947\u001b[0;31m                 \u001b[0;32mreturn\u001b[0m \u001b[0mself\u001b[0m\u001b[0;34m.\u001b[0m\u001b[0m_engine\u001b[0m\u001b[0;34m.\u001b[0m\u001b[0mget_loc\u001b[0m\u001b[0;34m(\u001b[0m\u001b[0mself\u001b[0m\u001b[0;34m.\u001b[0m\u001b[0m_maybe_cast_indexer\u001b[0m\u001b[0;34m(\u001b[0m\u001b[0mkey\u001b[0m\u001b[0;34m)\u001b[0m\u001b[0;34m)\u001b[0m\u001b[0;34m\u001b[0m\u001b[0m\n\u001b[0m\u001b[1;32m   1948\u001b[0m \u001b[0;34m\u001b[0m\u001b[0m\n\u001b[1;32m   1949\u001b[0m         \u001b[0mindexer\u001b[0m \u001b[0;34m=\u001b[0m \u001b[0mself\u001b[0m\u001b[0;34m.\u001b[0m\u001b[0mget_indexer\u001b[0m\u001b[0;34m(\u001b[0m\u001b[0;34m[\u001b[0m\u001b[0mkey\u001b[0m\u001b[0;34m]\u001b[0m\u001b[0;34m,\u001b[0m \u001b[0mmethod\u001b[0m\u001b[0;34m=\u001b[0m\u001b[0mmethod\u001b[0m\u001b[0;34m,\u001b[0m \u001b[0mtolerance\u001b[0m\u001b[0;34m=\u001b[0m\u001b[0mtolerance\u001b[0m\u001b[0;34m)\u001b[0m\u001b[0;34m\u001b[0m\u001b[0m\n",
      "\u001b[0;32mpandas/index.pyx\u001b[0m in \u001b[0;36mpandas.index.IndexEngine.get_loc (pandas/index.c:4154)\u001b[0;34m()\u001b[0m\n",
      "\u001b[0;32mpandas/index.pyx\u001b[0m in \u001b[0;36mpandas.index.IndexEngine.get_loc (pandas/index.c:4018)\u001b[0;34m()\u001b[0m\n",
      "\u001b[0;32mpandas/hashtable.pyx\u001b[0m in \u001b[0;36mpandas.hashtable.PyObjectHashTable.get_item (pandas/hashtable.c:12368)\u001b[0;34m()\u001b[0m\n",
      "\u001b[0;32mpandas/hashtable.pyx\u001b[0m in \u001b[0;36mpandas.hashtable.PyObjectHashTable.get_item (pandas/hashtable.c:12322)\u001b[0;34m()\u001b[0m\n",
      "\u001b[0;31mKeyError\u001b[0m: 'dwellTime 50%'"
     ]
    }
   ],
   "source": [
    "master['dwellTime 50%'].value_counts()"
   ]
  }
 ],
 "metadata": {
  "anaconda-cloud": {},
  "kernelspec": {
   "display_name": "Python [Root]",
   "language": "python",
   "name": "Python [Root]"
  },
  "language_info": {
   "codemirror_mode": {
    "name": "ipython",
    "version": 3
   },
   "file_extension": ".py",
   "mimetype": "text/x-python",
   "name": "python",
   "nbconvert_exporter": "python",
   "pygments_lexer": "ipython3",
   "version": "3.5.2"
  }
 },
 "nbformat": 4,
 "nbformat_minor": 0
}
