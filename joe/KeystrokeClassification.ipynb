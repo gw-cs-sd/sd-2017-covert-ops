{
 "cells": [
  {
   "cell_type": "code",
   "execution_count": 2,
   "metadata": {
    "collapsed": true
   },
   "outputs": [],
   "source": [
    "# imports\n",
    "import pandas as pd;\n",
    "import numpy as np;\n",
    "import os;"
   ]
  },
  {
   "cell_type": "code",
   "execution_count": 3,
   "metadata": {
    "collapsed": false
   },
   "outputs": [],
   "source": [
    "# Walk data directories and assemble dataframes for each record\n",
    "# ~450 genuine entries, ~150 impostor entries\n",
    "genuine = {};\n",
    "genuine['pressToPress'] = [];\n",
    "genuine['pressToRelease'] = [];\n",
    "genuine['releaseToPress'] = [];\n",
    "genuine['releaseToRelease'] = [];\n",
    "impostor = {};\n",
    "impostor['pressToPress'] = [];\n",
    "impostor['pressToRelease'] = [];\n",
    "impostor['releaseToPress'] = [];\n",
    "impostor['releaseToRelease'] = [];\n",
    "\n",
    "for root, dirs, files in os.walk(\"data/user_001\", topdown=False):\n",
    "    for subdir in dirs:\n",
    "        try:\n",
    "            if(len(open(os.path.join(root,subdir)+\"/p_pr.txt\").readlines())==8):\n",
    "                if \"genuine\" in root:\n",
    "                    genuine['pressToPress'].append(open(os.path.join(root,subdir)+\"/p_pp.txt\").readlines())\n",
    "                    genuine['pressToRelease'].append(open(os.path.join(root,subdir)+\"/p_pr.txt\").readlines())\n",
    "                    genuine['releaseToPress'].append(open(os.path.join(root,subdir)+\"/p_rp.txt\").readlines())\n",
    "                    genuine['releaseToRelease'].append(open(os.path.join(root,subdir)+\"/p_rr.txt\").readlines())\n",
    "                else:\n",
    "                    impostor['pressToPress'].append(open(os.path.join(root,subdir)+\"/p_pp.txt\").readlines())\n",
    "                    impostor['pressToRelease'].append(open(os.path.join(root,subdir)+\"/p_pr.txt\").readlines())\n",
    "                    impostor['releaseToPress'].append(open(os.path.join(root,subdir)+\"/p_rp.txt\").readlines())\n",
    "                    impostor['releaseToRelease'].append(open(os.path.join(root,subdir)+\"/p_rr.txt\").readlines())\n",
    "#         ignore files that aren't timestampped keystroke data\n",
    "        except: \n",
    "            pass;"
   ]
  },
  {
   "cell_type": "code",
   "execution_count": 4,
   "metadata": {
    "collapsed": false
   },
   "outputs": [],
   "source": [
    "genuine['master'] = [genuine['pressToPress'][k] + genuine['pressToRelease'][k] + genuine['releaseToPress'][k] + genuine['releaseToRelease'][k] for k in range(0,len(genuine['pressToPress']))]\n",
    "impostor['master'] = [impostor['pressToPress'][k] + impostor['pressToRelease'][k] + impostor['releaseToPress'][k] + impostor['releaseToRelease'][k] for k in range(0,len(impostor['pressToPress']))]"
   ]
  },
  {
   "cell_type": "code",
   "execution_count": 5,
   "metadata": {
    "collapsed": false
   },
   "outputs": [],
   "source": [
    "genuine_df = pd.DataFrame(genuine['master']).astype(int)\n",
    "genuine_df['user'] = 'genuine'\n",
    "\n",
    "impostor_df = pd.DataFrame(impostor['master']).astype(int)\n",
    "impostor_df['user'] = 'impostor'"
   ]
  },
  {
   "cell_type": "code",
   "execution_count": 6,
   "metadata": {
    "collapsed": false
   },
   "outputs": [],
   "source": [
    "# Balanced dataset; 100 Genuine trials vs 100 Impostor trials\n",
    "\n",
    "dataset = pd.concat([genuine_df.iloc[:100],impostor_df],ignore_index=True)\n"
   ]
  },
  {
   "cell_type": "code",
   "execution_count": 7,
   "metadata": {
    "collapsed": false
   },
   "outputs": [],
   "source": [
    "y=dataset['user']\n",
    "X=dataset.drop(['user'], axis=1)\n"
   ]
  },
  {
   "cell_type": "code",
   "execution_count": 8,
   "metadata": {
    "collapsed": true
   },
   "outputs": [],
   "source": [
    "# Split and shuffle \n",
    "\n",
    "from sklearn.model_selection import train_test_split\n",
    "X_train, X_test, y_train, y_test = train_test_split(X, y, test_size=0.33, random_state=42)\n"
   ]
  },
  {
   "cell_type": "code",
   "execution_count": 9,
   "metadata": {
    "collapsed": false
   },
   "outputs": [],
   "source": [
    "# Linear Support Vector Classifier\n",
    "\n",
    "from sklearn.svm import LinearSVC\n",
    "svc = LinearSVC().fit(X_train,y_train)"
   ]
  },
  {
   "cell_type": "code",
   "execution_count": 10,
   "metadata": {
    "collapsed": false
   },
   "outputs": [
    {
     "data": {
      "text/plain": [
       "0.97014925373134331"
      ]
     },
     "execution_count": 10,
     "metadata": {},
     "output_type": "execute_result"
    }
   ],
   "source": [
    "# Predict on test set and evaluate performance\n",
    "svc.score(X_test,y_test)"
   ]
  },
  {
   "cell_type": "code",
   "execution_count": 11,
   "metadata": {
    "collapsed": false
   },
   "outputs": [
    {
     "data": {
      "text/plain": [
       "array([ -2.61651415,  -3.21109854,  -1.7835922 ,   4.06444751,\n",
       "         2.05688892,   4.44993432,  -3.31881195,   2.72391201,\n",
       "         8.1139585 ,  -2.67997509,  -1.8982721 ,   2.19841369,\n",
       "         2.20031849,  -3.55546158,   4.61640348,  12.70533243,\n",
       "        -1.21291372,   5.23212207,  -2.72118404,  -1.93783771,\n",
       "        29.5067103 ,  -1.99677707,  -0.75829728,  -3.30819582,\n",
       "        -1.7191378 ,  -2.27130327,  -2.24963373,  -2.93055758,\n",
       "         6.83318542,   1.73410513,  -2.52926993,  -3.11999623,\n",
       "        -2.10168379,  -1.88929961,   6.25932244,   0.80354751,\n",
       "         7.30686324,   1.23836029,   0.36149327,  -3.07938124,\n",
       "        -2.68697261,  11.93920638,  -1.87668077,  -1.73464397,\n",
       "        25.80621792,  12.98860187,  -2.94012422,  -3.56263531,\n",
       "         6.27274701,  -2.48602018,   7.55066925,   3.52330747,\n",
       "        -1.36520662,   4.30701705,   7.34775509,  -4.37767348,\n",
       "         2.5012529 ,  -2.38947788,   3.33892268,  -2.11285484,\n",
       "        -1.83363281,  -0.57652891,  -1.95447253,  -4.82369112,\n",
       "        -4.21015085,   3.81296486,  -1.72952839])"
      ]
     },
     "execution_count": 11,
     "metadata": {},
     "output_type": "execute_result"
    }
   ],
   "source": [
    "svc.decision_function(X_test)"
   ]
  },
  {
   "cell_type": "code",
   "execution_count": 12,
   "metadata": {
    "collapsed": true
   },
   "outputs": [],
   "source": [
    "# DecisionTree Classifier\n",
    "from sklearn import tree\n",
    "dt = tree.DecisionTreeClassifier().fit(X_train,y_train)\n"
   ]
  },
  {
   "cell_type": "code",
   "execution_count": 13,
   "metadata": {
    "collapsed": false
   },
   "outputs": [
    {
     "data": {
      "text/plain": [
       "0.9850746268656716"
      ]
     },
     "execution_count": 13,
     "metadata": {},
     "output_type": "execute_result"
    }
   ],
   "source": [
    "dt.score(X_test,y_test)"
   ]
  },
  {
   "cell_type": "code",
   "execution_count": 21,
   "metadata": {
    "collapsed": false,
    "scrolled": true
   },
   "outputs": [
    {
     "data": {
      "text/plain": [
       "(array([ 2,  6, 11, 19]),)"
      ]
     },
     "execution_count": 21,
     "metadata": {},
     "output_type": "execute_result"
    }
   ],
   "source": [
    "dt.feature_importances_.nonzero()\n"
   ]
  },
  {
   "cell_type": "code",
   "execution_count": 15,
   "metadata": {
    "collapsed": false
   },
   "outputs": [
    {
     "data": {
      "text/plain": [
       "count    100.000000\n",
       "mean     145.910000\n",
       "std       35.081174\n",
       "min       79.000000\n",
       "25%      120.000000\n",
       "50%      136.000000\n",
       "75%      160.000000\n",
       "max      288.000000\n",
       "Name: 2, dtype: float64"
      ]
     },
     "execution_count": 15,
     "metadata": {},
     "output_type": "execute_result"
    }
   ],
   "source": [
    "genuine_df.iloc[:100][2].describe()"
   ]
  },
  {
   "cell_type": "code",
   "execution_count": 16,
   "metadata": {
    "collapsed": false
   },
   "outputs": [
    {
     "data": {
      "text/plain": [
       "count     101.000000\n",
       "mean      438.811881\n",
       "std       225.546923\n",
       "min       221.000000\n",
       "25%       294.000000\n",
       "50%       362.000000\n",
       "75%       512.000000\n",
       "max      1232.000000\n",
       "Name: 2, dtype: float64"
      ]
     },
     "execution_count": 16,
     "metadata": {},
     "output_type": "execute_result"
    }
   ],
   "source": [
    "impostor_df[2].describe()\n"
   ]
  }
 ],
 "metadata": {
  "kernelspec": {
   "display_name": "Python [Root]",
   "language": "python",
   "name": "Python [Root]"
  },
  "language_info": {
   "codemirror_mode": {
    "name": "ipython",
    "version": 3
   },
   "file_extension": ".py",
   "mimetype": "text/x-python",
   "name": "python",
   "nbconvert_exporter": "python",
   "pygments_lexer": "ipython3",
   "version": "3.5.2"
  }
 },
 "nbformat": 4,
 "nbformat_minor": 0
}
