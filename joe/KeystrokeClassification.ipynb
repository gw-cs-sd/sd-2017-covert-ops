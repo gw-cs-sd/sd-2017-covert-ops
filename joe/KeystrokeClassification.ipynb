{
 "cells": [
  {
   "cell_type": "code",
   "execution_count": 11,
   "metadata": {
    "collapsed": true
   },
   "outputs": [],
   "source": [
    "# imports\n",
    "import pandas as pd;\n",
    "import numpy as np;\n",
    "import os;"
   ]
  },
  {
   "cell_type": "code",
   "execution_count": 12,
   "metadata": {
    "collapsed": false
   },
   "outputs": [],
   "source": [
    "# Walk data directories and assemble dataframes for each record\n",
    "# ~450 genuine entries, ~150 impostor entries\n",
    "genuine = {};\n",
    "genuine['pressToPress'] = [];\n",
    "genuine['pressToRelease'] = [];\n",
    "genuine['releaseToPress'] = [];\n",
    "genuine['releaseToRelease'] = [];\n",
    "impostor = {};\n",
    "impostor['pressToPress'] = [];\n",
    "impostor['pressToRelease'] = [];\n",
    "impostor['releaseToPress'] = [];\n",
    "impostor['releaseToRelease'] = [];\n",
    "\n",
    "for root, dirs, files in os.walk(\"data/user_005\", topdown=False):\n",
    "    for subdir in dirs:\n",
    "        try:\n",
    "            if(len(open(os.path.join(root,subdir)+\"/p_pr.txt\").readlines())==8):\n",
    "                if \"genuine\" in root:\n",
    "                    genuine['pressToPress'].append(open(os.path.join(root,subdir)+\"/p_pp.txt\").readlines())\n",
    "                    genuine['pressToRelease'].append(open(os.path.join(root,subdir)+\"/p_pr.txt\").readlines())\n",
    "                    genuine['releaseToPress'].append(open(os.path.join(root,subdir)+\"/p_rp.txt\").readlines())\n",
    "                    genuine['releaseToRelease'].append(open(os.path.join(root,subdir)+\"/p_rr.txt\").readlines())\n",
    "                else:\n",
    "                    impostor['pressToPress'].append(open(os.path.join(root,subdir)+\"/p_pp.txt\").readlines())\n",
    "                    impostor['pressToRelease'].append(open(os.path.join(root,subdir)+\"/p_pr.txt\").readlines())\n",
    "                    impostor['releaseToPress'].append(open(os.path.join(root,subdir)+\"/p_rp.txt\").readlines())\n",
    "                    impostor['releaseToRelease'].append(open(os.path.join(root,subdir)+\"/p_rr.txt\").readlines())\n",
    "#         ignore files that aren't timestampped keystroke data\n",
    "        except: \n",
    "            pass;"
   ]
  },
  {
   "cell_type": "code",
   "execution_count": 13,
   "metadata": {
    "collapsed": false
   },
   "outputs": [],
   "source": [
    "genuine['master'] = [genuine['pressToPress'][k] + genuine['pressToRelease'][k] + genuine['releaseToPress'][k] + genuine['releaseToRelease'][k] for k in range(0,len(genuine['pressToPress']))]\n",
    "impostor['master'] = [impostor['pressToPress'][k] + impostor['pressToRelease'][k] + impostor['releaseToPress'][k] + impostor['releaseToRelease'][k] for k in range(0,len(impostor['pressToPress']))]"
   ]
  },
  {
   "cell_type": "code",
   "execution_count": 14,
   "metadata": {
    "collapsed": false
   },
   "outputs": [],
   "source": [
    "genuine_df = pd.DataFrame(genuine['master']).astype(int)\n",
    "genuine_df['user'] = 'genuine'\n",
    "\n",
    "impostor_df = pd.DataFrame(impostor['master']).astype(int)\n",
    "impostor_df['user'] = 'impostor'"
   ]
  },
  {
   "cell_type": "code",
   "execution_count": 15,
   "metadata": {
    "collapsed": false
   },
   "outputs": [],
   "source": [
    "# Balanced dataset; 100 Genuine trials vs 100 Impostor trials\n",
    "\n",
    "dataset = pd.concat([genuine_df.iloc[:100],impostor_df],ignore_index=True)\n"
   ]
  },
  {
   "cell_type": "code",
   "execution_count": 16,
   "metadata": {
    "collapsed": false
   },
   "outputs": [],
   "source": [
    "y=dataset['user']\n",
    "X=dataset.drop(['user'], axis=1)\n"
   ]
  },
  {
   "cell_type": "code",
   "execution_count": 17,
   "metadata": {
    "collapsed": true
   },
   "outputs": [],
   "source": [
    "# Split and shuffle \n",
    "\n",
    "from sklearn.model_selection import train_test_split\n",
    "X_train, X_test, y_train, y_test = train_test_split(X, y, test_size=0.33, random_state=42)\n"
   ]
  },
  {
   "cell_type": "code",
   "execution_count": 18,
   "metadata": {
    "collapsed": false
   },
   "outputs": [],
   "source": [
    "# Linear Support Vector Classifier\n",
    "\n",
    "from sklearn.svm import LinearSVC\n",
    "svc = LinearSVC().fit(X_train,y_train)"
   ]
  },
  {
   "cell_type": "code",
   "execution_count": 19,
   "metadata": {
    "collapsed": false
   },
   "outputs": [
    {
     "data": {
      "text/plain": [
       "0.97777777777777775"
      ]
     },
     "execution_count": 19,
     "metadata": {},
     "output_type": "execute_result"
    }
   ],
   "source": [
    "# Predict on test set and evaluate performance\n",
    "svc.score(X_test,y_test)"
   ]
  },
  {
   "cell_type": "code",
   "execution_count": 20,
   "metadata": {
    "collapsed": false
   },
   "outputs": [
    {
     "data": {
      "text/plain": [
       "array([-0.99062548,  3.64089943, -0.18945289,  5.41181997,  3.88291551,\n",
       "        1.81675946,  3.76236828, -2.91500201,  7.80062798,  3.95626046,\n",
       "        2.71689417,  1.6737914 ,  2.2009471 , -1.23194936,  1.57863987,\n",
       "        3.8303724 ,  1.20410973,  6.93624303,  4.05407741, -0.56033381,\n",
       "        0.52931645,  1.64968431, -3.32004832, -2.13164602,  4.13879473,\n",
       "       -2.37277548, -2.21532589,  1.5544608 ,  4.9630245 , -1.42099495,\n",
       "        5.15653945, -2.41911348,  3.14002205,  1.26316077,  1.9367887 ,\n",
       "       -1.98332287,  3.07487608, -0.25985729,  4.6465739 ,  4.46342432,\n",
       "       -0.70636247,  6.59617023,  7.85539951, -0.82989203, -2.16429886,\n",
       "        4.9089352 ,  6.79367852,  5.48264269,  2.88406593,  2.51745685,\n",
       "       -1.9422538 ,  7.50694709,  5.6264099 ,  4.88793586,  4.20386583,\n",
       "       -1.1447537 ,  5.72355568,  5.47567884,  2.55406581, -2.38199972,\n",
       "       -2.31927724,  1.95882158,  5.74521684,  0.92266864,  5.03019684,\n",
       "       -0.65043423,  7.27797433,  1.46241217,  5.68115918, -2.65077795,\n",
       "       -0.7692775 ,  5.2567288 ,  1.82582031,  6.34623779,  3.4131743 ,\n",
       "       -2.2210698 , -2.12411706,  4.17044701,  1.04723615, -0.94254508,\n",
       "        5.23466128, -0.59582517,  4.96236744,  6.60029477,  2.57618878,\n",
       "        4.10770243,  2.22630195, -1.53652945,  1.90065998,  2.86849421])"
      ]
     },
     "execution_count": 20,
     "metadata": {},
     "output_type": "execute_result"
    }
   ],
   "source": [
    "svc.decision_function(X_test)"
   ]
  },
  {
   "cell_type": "code",
   "execution_count": 21,
   "metadata": {
    "collapsed": true
   },
   "outputs": [],
   "source": [
    "# DecisionTree Classifier\n",
    "from sklearn import tree\n",
    "dt = tree.DecisionTreeClassifier().fit(X_train,y_train)\n"
   ]
  },
  {
   "cell_type": "code",
   "execution_count": 22,
   "metadata": {
    "collapsed": false
   },
   "outputs": [
    {
     "data": {
      "text/plain": [
       "0.94444444444444442"
      ]
     },
     "execution_count": 22,
     "metadata": {},
     "output_type": "execute_result"
    }
   ],
   "source": [
    "dt.score(X_test,y_test)"
   ]
  },
  {
   "cell_type": "code",
   "execution_count": 23,
   "metadata": {
    "collapsed": false,
    "scrolled": true
   },
   "outputs": [
    {
     "data": {
      "text/plain": [
       "(array([ 1,  5,  8, 10, 12, 15, 16, 24]),)"
      ]
     },
     "execution_count": 23,
     "metadata": {},
     "output_type": "execute_result"
    }
   ],
   "source": [
    "dt.feature_importances_.nonzero()\n"
   ]
  },
  {
   "cell_type": "code",
   "execution_count": 24,
   "metadata": {
    "collapsed": false
   },
   "outputs": [
    {
     "data": {
      "text/plain": [
       "count     90.000000\n",
       "mean     155.466667\n",
       "std       13.662217\n",
       "min      121.000000\n",
       "25%      147.250000\n",
       "50%      155.000000\n",
       "75%      161.000000\n",
       "max      220.000000\n",
       "Name: 2, dtype: float64"
      ]
     },
     "execution_count": 24,
     "metadata": {},
     "output_type": "execute_result"
    }
   ],
   "source": [
    "genuine_df.iloc[:100][2].describe()"
   ]
  },
  {
   "cell_type": "code",
   "execution_count": 25,
   "metadata": {
    "collapsed": false
   },
   "outputs": [
    {
     "data": {
      "text/plain": [
       "count     181.000000\n",
       "mean      153.320442\n",
       "std        88.054195\n",
       "min         1.000000\n",
       "25%       130.000000\n",
       "50%       144.000000\n",
       "75%       159.000000\n",
       "max      1249.000000\n",
       "Name: 2, dtype: float64"
      ]
     },
     "execution_count": 25,
     "metadata": {},
     "output_type": "execute_result"
    }
   ],
   "source": [
    "impostor_df[2].describe()\n"
   ]
  }
 ],
 "metadata": {
  "kernelspec": {
   "display_name": "Python [Root]",
   "language": "python",
   "name": "Python [Root]"
  },
  "language_info": {
   "codemirror_mode": {
    "name": "ipython",
    "version": 3
   },
   "file_extension": ".py",
   "mimetype": "text/x-python",
   "name": "python",
   "nbconvert_exporter": "python",
   "pygments_lexer": "ipython3",
   "version": "3.5.2"
  }
 },
 "nbformat": 4,
 "nbformat_minor": 0
}
