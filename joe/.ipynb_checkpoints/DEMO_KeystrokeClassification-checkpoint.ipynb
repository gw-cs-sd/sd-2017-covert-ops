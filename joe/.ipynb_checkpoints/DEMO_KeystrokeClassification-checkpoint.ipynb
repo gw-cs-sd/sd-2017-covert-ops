{
 "cells": [
  {
   "cell_type": "code",
   "execution_count": null,
   "metadata": {
    "collapsed": true
   },
   "outputs": [],
   "source": [
    "# imports\n",
    "import pandas as pd;\n",
    "import numpy as np;\n",
    "import os;"
   ]
  },
  {
   "cell_type": "code",
   "execution_count": null,
   "metadata": {
    "collapsed": false
   },
   "outputs": [],
   "source": [
    "# Walk data directories and assemble dataframes for each record\n",
    "genuine = {};\n",
    "genuine['pressToPress'] = [];\n",
    "genuine['pressToRelease'] = [];\n",
    "genuine['releaseToPress'] = [];\n",
    "genuine['releaseToRelease'] = [];\n",
    "impostor = {};\n",
    "impostor['pressToPress'] = [];\n",
    "impostor['pressToRelease'] = [];\n",
    "impostor['releaseToPress'] = [];\n",
    "impostor['releaseToRelease'] = [];\n",
    "\n",
    "\n",
    "# import user_005 data as impostor\n",
    "for root, dirs, files in os.walk(\"data/user_005_training_set\", topdown=False):\n",
    "    for subdir in dirs:\n",
    "        try:\n",
    "            if(len(open(os.path.join(root,subdir)+\"/p_pr.txt\").readlines())==8):\n",
    "                impostor['pressToPress'].append(open(os.path.join(root,subdir)+\"/p_pp.txt\").readlines())\n",
    "                impostor['pressToRelease'].append(open(os.path.join(root,subdir)+\"/p_pr.txt\").readlines())\n",
    "                impostor['releaseToPress'].append(open(os.path.join(root,subdir)+\"/p_rp.txt\").readlines())\n",
    "                impostor['releaseToRelease'].append(open(os.path.join(root,subdir)+\"/p_rr.txt\").readlines())\n",
    "#         ignore files that aren't timestampped keystroke data\n",
    "        except: \n",
    "            pass;\n",
    "        \n",
    "# import Joe's processed keystrokes as genuine\n",
    "for root, dirs, files in os.walk(\"keystrokes/processed/Joe\", topdown=False):\n",
    "    for subdir in dirs:\n",
    "        try:\n",
    "            genuine['pressToPress'].append([int(float(k)) for k in (open(os.path.join(root,subdir)+\"/p_pp.txt\").readlines())]);\n",
    "            genuine['pressToRelease'].append([int(float(k)) for k in (open(os.path.join(root,subdir)+\"/p_pr.txt\").readlines())]);\n",
    "            genuine['releaseToPress'].append([int(float(k)) for k in (open(os.path.join(root,subdir)+\"/p_rp.txt\").readlines())]);\n",
    "            genuine['releaseToRelease'].append([int(float(k)) for k in (open(os.path.join(root,subdir)+\"/p_rr.txt\").readlines())]);\n",
    "        except:\n",
    "            pass;\n"
   ]
  },
  {
   "cell_type": "code",
   "execution_count": null,
   "metadata": {
    "collapsed": false
   },
   "outputs": [],
   "source": [
    "genuine['master'] = [genuine['pressToPress'][k] + genuine['pressToRelease'][k] + genuine['releaseToPress'][k] + genuine['releaseToRelease'][k] for k in range(0,len(genuine['pressToPress']))]\n",
    "impostor['master'] = [impostor['pressToPress'][k] + impostor['pressToRelease'][k] + impostor['releaseToPress'][k] + impostor['releaseToRelease'][k] for k in range(0,len(impostor['pressToPress']))]"
   ]
  },
  {
   "cell_type": "code",
   "execution_count": null,
   "metadata": {
    "collapsed": false
   },
   "outputs": [],
   "source": [
    "genuine_df = pd.DataFrame(genuine['master']).astype(int)\n",
    "genuine_df['user'] = 'genuine'\n",
    "\n",
    "impostor_df = pd.DataFrame(impostor['master']).astype(int)\n",
    "impostor_df['user'] = 'impostor'"
   ]
  },
  {
   "cell_type": "code",
   "execution_count": null,
   "metadata": {
    "collapsed": false
   },
   "outputs": [],
   "source": [
    "# Balanced dataset; 100 Genuine trials vs 100 Impostor trials\n",
    "\n",
    "dataset = pd.concat([genuine_df.iloc[:len(genuine_df)],impostor_df.iloc[:len(genuine_df)]],ignore_index=True)"
   ]
  },
  {
   "cell_type": "code",
   "execution_count": null,
   "metadata": {
    "collapsed": false
   },
   "outputs": [],
   "source": [
    "dataset = dataset.dropna(axis=1,how='any')\n",
    "\n",
    "y=dataset['user']\n",
    "X=dataset.drop(['user'], axis=1)\n"
   ]
  },
  {
   "cell_type": "code",
   "execution_count": null,
   "metadata": {
    "collapsed": false
   },
   "outputs": [],
   "source": [
    "dataset"
   ]
  },
  {
   "cell_type": "code",
   "execution_count": null,
   "metadata": {
    "collapsed": false
   },
   "outputs": [],
   "source": [
    "X"
   ]
  },
  {
   "cell_type": "code",
   "execution_count": null,
   "metadata": {
    "collapsed": false
   },
   "outputs": [],
   "source": [
    "y"
   ]
  },
  {
   "cell_type": "code",
   "execution_count": null,
   "metadata": {
    "collapsed": true
   },
   "outputs": [],
   "source": [
    "# Split and shuffle \n",
    "\n",
    "from sklearn.model_selection import train_test_split\n",
    "X_train, X_test, y_train, y_test = train_test_split(X, y, test_size=0.33, random_state=42)\n"
   ]
  },
  {
   "cell_type": "code",
   "execution_count": null,
   "metadata": {
    "collapsed": false
   },
   "outputs": [],
   "source": [
    "# Linear Support Vector Classifier\n",
    "\n",
    "from sklearn.svm import LinearSVC\n",
    "svc = LinearSVC().fit(X_train,y_train)"
   ]
  },
  {
   "cell_type": "code",
   "execution_count": null,
   "metadata": {
    "collapsed": false
   },
   "outputs": [],
   "source": [
    "# Predict on test set and evaluate performance\n",
    "svc.score(X_test,y_test)"
   ]
  },
  {
   "cell_type": "code",
   "execution_count": null,
   "metadata": {
    "collapsed": false
   },
   "outputs": [],
   "source": [
    "svc.decision_function(X_test)"
   ]
  },
  {
   "cell_type": "code",
   "execution_count": null,
   "metadata": {
    "collapsed": true
   },
   "outputs": [],
   "source": [
    "# DecisionTree Classifier\n",
    "from sklearn import tree\n",
    "dt = tree.DecisionTreeClassifier().fit(X_train,y_train)\n"
   ]
  },
  {
   "cell_type": "code",
   "execution_count": null,
   "metadata": {
    "collapsed": false
   },
   "outputs": [],
   "source": [
    "dt.score(X_test,y_test)"
   ]
  },
  {
   "cell_type": "code",
   "execution_count": null,
   "metadata": {
    "collapsed": false,
    "scrolled": true
   },
   "outputs": [],
   "source": [
    "dt.feature_importances_.nonzero()\n"
   ]
  },
  {
   "cell_type": "code",
   "execution_count": null,
   "metadata": {
    "collapsed": false
   },
   "outputs": [],
   "source": [
    "genuine_df.iloc[:100][2].describe()"
   ]
  },
  {
   "cell_type": "code",
   "execution_count": null,
   "metadata": {
    "collapsed": false
   },
   "outputs": [],
   "source": [
    "impostor_df[2].describe()\n"
   ]
  },
  {
   "cell_type": "code",
   "execution_count": null,
   "metadata": {
    "collapsed": false
   },
   "outputs": [],
   "source": [
    "from sklearn.externals import joblib\n",
    "# Save for Python 2 to run in native Bash\n",
    "joblib.dump(dt, 'DEMO_decision_tree.pkl', protocol=2); \n",
    "# clf = joblib.load('filename.pkl') "
   ]
  }
 ],
 "metadata": {
  "kernelspec": {
   "display_name": "Python [Root]",
   "language": "python",
   "name": "Python [Root]"
  },
  "language_info": {
   "codemirror_mode": {
    "name": "ipython",
    "version": 3
   },
   "file_extension": ".py",
   "mimetype": "text/x-python",
   "name": "python",
   "nbconvert_exporter": "python",
   "pygments_lexer": "ipython3",
   "version": "3.5.2"
  }
 },
 "nbformat": 4,
 "nbformat_minor": 0
}
