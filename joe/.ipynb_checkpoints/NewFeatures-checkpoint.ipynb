{
 "cells": [
  {
   "cell_type": "code",
   "execution_count": 1,
   "metadata": {
    "collapsed": false
   },
   "outputs": [],
   "source": [
    "import pandas as pd;\n",
    "import numpy as np;\n",
    "import json;\n",
    "import matplotlib.pyplot as plt;\n",
    "%matplotlib inline\n"
   ]
  },
  {
   "cell_type": "code",
   "execution_count": 3,
   "metadata": {
    "collapsed": false
   },
   "outputs": [],
   "source": [
    "rawJSON = json.loads(\"\".join(open('data/keystrokes-34c38-export (7).json').readlines()))"
   ]
  },
  {
   "cell_type": "code",
   "execution_count": 3,
   "metadata": {
    "collapsed": false
   },
   "outputs": [],
   "source": [
    "def calculatePerKeyDwellTime(dataframe,DEBUG=False):\n",
    "    dwell_times = {}\n",
    "    for i in set(dataframe.key.unique()):\n",
    "        if(DEBUG):\n",
    "            print (i);\n",
    "        running_average = 0;\n",
    "        subset = dataframe[dataframe['key'] == i];\n",
    "        if(len(dataframe[dataframe['key']==i])%2==0):\n",
    "            for g in range(len(subset)-1):\n",
    "                running_average+=(float(subset.iloc[g+1]['timestamp']) - float(subset.iloc[g]['timestamp']));\n",
    "            if(DEBUG):\n",
    "                print (\"running average: \"+str(running_average));\n",
    "            running_average/=len(subset);\n",
    "            if(DEBUG):\n",
    "                print (\"running average/subset_len = \"+str(running_average));\n",
    "        else: # last key release not recorded\n",
    "            for g in range(len(subset)-2):\n",
    "                running_average+=(float(subset.iloc[g+1]['timestamp']) - float(subset.iloc[g]['timestamp']));\n",
    "            running_average/=len(subset);\n",
    "        dwell_times[i] = running_average;\n",
    "        if(DEBUG):\n",
    "            print (\" \");\n",
    "    return dwell_times;    \n",
    "\n",
    "\n",
    "def calculateFlightTime(dataframe):\n",
    "#     time between release and next key press\n",
    "    flight_times = [];\n",
    "    index_of_releases = ((dataframe[dataframe['action']=='RELEASED']).index.tolist());\n",
    "    range_of_events = list(range(index_of_releases[0], index_of_releases[-1]));\n",
    "    index_of_presses = list(set(range_of_events).difference(index_of_releases));\n",
    "    try:\n",
    "        first_press = index_of_presses[0];\n",
    "#         print (index_of_presses)\n",
    "    except:\n",
    "        return False;\n",
    "    while (index_of_presses[0]<index_of_releases[0]):\n",
    "        del index_of_releases[0];\n",
    "    while(len(index_of_presses)>0):\n",
    "        flight_times.append((float(dataframe['timestamp'].iloc[index_of_presses[0]]) - float(dataframe['timestamp'].iloc[index_of_releases[0]])));\n",
    "        del index_of_releases[0]\n",
    "        del index_of_presses[0]\n",
    "    return flight_times;"
   ]
  },
  {
   "cell_type": "code",
   "execution_count": 4,
   "metadata": {
    "collapsed": false
   },
   "outputs": [],
   "source": [
    "keystrokes=pd.DataFrame.from_dict(rawJSON)\n",
    "obj = (keystrokes[:1]['samples'])\n",
    "keystrokes=pd.DataFrame.from_dict(rawJSON['samples']).T"
   ]
  },
  {
   "cell_type": "code",
   "execution_count": 5,
   "metadata": {
    "collapsed": false,
    "scrolled": true
   },
   "outputs": [],
   "source": [
    "# Just the new records\n",
    "lorem_ipsum = keystrokes.iloc[22:]"
   ]
  },
  {
   "cell_type": "code",
   "execution_count": 6,
   "metadata": {
    "collapsed": false
   },
   "outputs": [
    {
     "data": {
      "text/html": [
       "<div>\n",
       "<table border=\"1\" class=\"dataframe\">\n",
       "  <thead>\n",
       "    <tr style=\"text-align: right;\">\n",
       "      <th></th>\n",
       "      <th>keystrokes</th>\n",
       "      <th>subject</th>\n",
       "    </tr>\n",
       "  </thead>\n",
       "  <tbody>\n",
       "    <tr>\n",
       "      <th>-KXcfQLt3sL8sFQLSA25</th>\n",
       "      <td>[[\"1480298596527 Shift PRESSED\",\"1480298597351...</td>\n",
       "      <td>An Dee</td>\n",
       "    </tr>\n",
       "    <tr>\n",
       "      <th>-KXchppS19K4bkiMZIho</th>\n",
       "      <td>[[\"1480299235028 Shift PRESSED\",\"1480299235217...</td>\n",
       "      <td>Joseph Haaga</td>\n",
       "    </tr>\n",
       "  </tbody>\n",
       "</table>\n",
       "</div>"
      ],
      "text/plain": [
       "                                                             keystrokes  \\\n",
       "-KXcfQLt3sL8sFQLSA25  [[\"1480298596527 Shift PRESSED\",\"1480298597351...   \n",
       "-KXchppS19K4bkiMZIho  [[\"1480299235028 Shift PRESSED\",\"1480299235217...   \n",
       "\n",
       "                           subject  \n",
       "-KXcfQLt3sL8sFQLSA25        An Dee  \n",
       "-KXchppS19K4bkiMZIho  Joseph Haaga  "
      ]
     },
     "execution_count": 6,
     "metadata": {},
     "output_type": "execute_result"
    }
   ],
   "source": [
    "lorem_ipsum"
   ]
  },
  {
   "cell_type": "code",
   "execution_count": 41,
   "metadata": {
    "collapsed": false
   },
   "outputs": [],
   "source": [
    "number_of_chars_per_observation = 20"
   ]
  },
  {
   "cell_type": "code",
   "execution_count": 44,
   "metadata": {
    "collapsed": true
   },
   "outputs": [],
   "source": [
    "andy_lorem_keystrokes = json.loads(lorem_ipsum['keystrokes'].iloc[0])[0]"
   ]
  },
  {
   "cell_type": "code",
   "execution_count": 46,
   "metadata": {
    "collapsed": false
   },
   "outputs": [],
   "source": [
    "andy = pd.DataFrame([x.split(\" \") for x in andy_lorem_keystrokes] , columns=['timestamp','key','event'])\n",
    "joe = pd.DataFrame([x.split(\" \") for x in json.loads(lorem_ipsum['keystrokes'].iloc[1])[0]] , columns=['timestamp','key','event'])"
   ]
  },
  {
   "cell_type": "code",
   "execution_count": 105,
   "metadata": {
    "collapsed": false
   },
   "outputs": [
    {
     "name": "stdout",
     "output_type": "stream",
     "text": [
      "PRESSED     9\n",
      "RELEASED    8\n",
      "Name: event, dtype: int64\n",
      "RELEASED    9\n",
      "PRESSED     8\n",
      "Name: event, dtype: int64\n",
      "PRESSED     9\n",
      "RELEASED    8\n",
      "Name: event, dtype: int64\n",
      "RELEASED    9\n",
      "PRESSED     8\n",
      "Name: event, dtype: int64\n",
      "PRESSED     9\n",
      "RELEASED    8\n",
      "Name: event, dtype: int64\n",
      "PRESSED     9\n",
      "RELEASED    8\n",
      "Name: event, dtype: int64\n",
      "RELEASED    9\n",
      "PRESSED     8\n",
      "Name: event, dtype: int64\n",
      "PRESSED     9\n",
      "RELEASED    8\n",
      "Name: event, dtype: int64\n",
      "RELEASED    9\n",
      "PRESSED     8\n",
      "Name: event, dtype: int64\n",
      "PRESSED     9\n",
      "RELEASED    8\n",
      "Name: event, dtype: int64\n",
      "RELEASED    9\n",
      "PRESSED     8\n",
      "Name: event, dtype: int64\n",
      "PRESSED     9\n",
      "RELEASED    8\n",
      "Name: event, dtype: int64\n",
      "RELEASED    9\n",
      "PRESSED     8\n",
      "Name: event, dtype: int64\n",
      "RELEASED    9\n",
      "PRESSED     8\n",
      "Name: event, dtype: int64\n",
      "PRESSED     9\n",
      "RELEASED    8\n",
      "Name: event, dtype: int64\n",
      "RELEASED    9\n",
      "PRESSED     8\n",
      "Name: event, dtype: int64\n",
      "PRESSED     9\n",
      "RELEASED    8\n",
      "Name: event, dtype: int64\n",
      "RELEASED    9\n",
      "PRESSED     8\n",
      "Name: event, dtype: int64\n",
      "PRESSED     9\n",
      "RELEASED    8\n",
      "Name: event, dtype: int64\n",
      "PRESSED     9\n",
      "RELEASED    8\n",
      "Name: event, dtype: int64\n",
      "RELEASED    9\n",
      "PRESSED     8\n",
      "Name: event, dtype: int64\n",
      "RELEASED    9\n",
      "PRESSED     8\n",
      "Name: event, dtype: int64\n",
      "PRESSED     9\n",
      "RELEASED    8\n",
      "Name: event, dtype: int64\n",
      "RELEASED    9\n",
      "PRESSED     8\n",
      "Name: event, dtype: int64\n",
      "PRESSED     9\n",
      "RELEASED    8\n",
      "Name: event, dtype: int64\n",
      "RELEASED    9\n",
      "PRESSED     8\n",
      "Name: event, dtype: int64\n",
      "PRESSED     9\n",
      "RELEASED    8\n",
      "Name: event, dtype: int64\n",
      "RELEASED    9\n",
      "PRESSED     8\n",
      "Name: event, dtype: int64\n",
      "PRESSED     9\n",
      "RELEASED    8\n",
      "Name: event, dtype: int64\n",
      "PRESSED     9\n",
      "RELEASED    8\n",
      "Name: event, dtype: int64\n",
      "RELEASED    9\n",
      "PRESSED     8\n",
      "Name: event, dtype: int64\n",
      "PRESSED     9\n",
      "RELEASED    8\n",
      "Name: event, dtype: int64\n",
      "RELEASED    9\n",
      "PRESSED     8\n",
      "Name: event, dtype: int64\n",
      "RELEASED    9\n",
      "PRESSED     8\n",
      "Name: event, dtype: int64\n",
      "PRESSED     9\n",
      "RELEASED    8\n",
      "Name: event, dtype: int64\n",
      "PRESSED     9\n",
      "RELEASED    8\n",
      "Name: event, dtype: int64\n",
      "RELEASED    9\n",
      "PRESSED     8\n",
      "Name: event, dtype: int64\n",
      "RELEASED    9\n",
      "PRESSED     8\n",
      "Name: event, dtype: int64\n",
      "PRESSED     9\n",
      "RELEASED    8\n",
      "Name: event, dtype: int64\n",
      "PRESSED     9\n",
      "RELEASED    8\n",
      "Name: event, dtype: int64\n",
      "RELEASED    9\n",
      "PRESSED     8\n",
      "Name: event, dtype: int64\n",
      "PRESSED     9\n",
      "RELEASED    8\n",
      "Name: event, dtype: int64\n",
      "RELEASED    9\n",
      "PRESSED     8\n",
      "Name: event, dtype: int64\n",
      "RELEASED    9\n",
      "PRESSED     8\n",
      "Name: event, dtype: int64\n",
      "PRESSED     9\n",
      "RELEASED    8\n",
      "Name: event, dtype: int64\n",
      "RELEASED    9\n",
      "PRESSED     8\n",
      "Name: event, dtype: int64\n",
      "PRESSED     9\n",
      "RELEASED    8\n",
      "Name: event, dtype: int64\n",
      "PRESSED     9\n",
      "RELEASED    8\n",
      "Name: event, dtype: int64\n",
      "RELEASED    9\n",
      "PRESSED     8\n",
      "Name: event, dtype: int64\n",
      "RELEASED    9\n",
      "PRESSED     8\n",
      "Name: event, dtype: int64\n",
      "PRESSED     9\n",
      "RELEASED    8\n",
      "Name: event, dtype: int64\n",
      "RELEASED    9\n",
      "PRESSED     8\n",
      "Name: event, dtype: int64\n",
      "PRESSED     9\n",
      "RELEASED    8\n",
      "Name: event, dtype: int64\n",
      "RELEASED    9\n",
      "PRESSED     8\n",
      "Name: event, dtype: int64\n",
      "PRESSED     9\n",
      "RELEASED    8\n",
      "Name: event, dtype: int64\n",
      "PRESSED     9\n",
      "RELEASED    8\n",
      "Name: event, dtype: int64\n",
      "RELEASED    9\n",
      "PRESSED     8\n",
      "Name: event, dtype: int64\n",
      "RELEASED    9\n",
      "PRESSED     8\n",
      "Name: event, dtype: int64\n",
      "PRESSED     9\n",
      "RELEASED    8\n",
      "Name: event, dtype: int64\n",
      "RELEASED    9\n",
      "PRESSED     8\n",
      "Name: event, dtype: int64\n",
      "PRESSED     9\n",
      "RELEASED    8\n",
      "Name: event, dtype: int64\n",
      "RELEASED    9\n",
      "PRESSED     8\n",
      "Name: event, dtype: int64\n",
      "PRESSED     9\n",
      "RELEASED    8\n",
      "Name: event, dtype: int64\n",
      "RELEASED    9\n",
      "PRESSED     8\n",
      "Name: event, dtype: int64\n",
      "PRESSED     9\n",
      "RELEASED    8\n",
      "Name: event, dtype: int64\n",
      "PRESSED     9\n",
      "RELEASED    8\n",
      "Name: event, dtype: int64\n",
      "RELEASED    9\n",
      "PRESSED     8\n",
      "Name: event, dtype: int64\n",
      "RELEASED    9\n",
      "PRESSED     8\n",
      "Name: event, dtype: int64\n",
      "PRESSED     9\n",
      "RELEASED    8\n",
      "Name: event, dtype: int64\n",
      "PRESSED     9\n",
      "RELEASED    8\n",
      "Name: event, dtype: int64\n",
      "RELEASED    9\n",
      "PRESSED     8\n",
      "Name: event, dtype: int64\n",
      "PRESSED     9\n",
      "RELEASED    8\n",
      "Name: event, dtype: int64\n",
      "RELEASED    9\n",
      "PRESSED     8\n",
      "Name: event, dtype: int64\n",
      "RELEASED    9\n",
      "PRESSED     8\n",
      "Name: event, dtype: int64\n",
      "PRESSED     9\n",
      "RELEASED    8\n",
      "Name: event, dtype: int64\n",
      "RELEASED    9\n",
      "PRESSED     8\n",
      "Name: event, dtype: int64\n",
      "PRESSED     9\n",
      "RELEASED    8\n",
      "Name: event, dtype: int64\n",
      "PRESSED     9\n",
      "RELEASED    8\n",
      "Name: event, dtype: int64\n",
      "RELEASED    9\n",
      "PRESSED     8\n",
      "Name: event, dtype: int64\n",
      "RELEASED    9\n",
      "PRESSED     8\n",
      "Name: event, dtype: int64\n",
      "PRESSED     9\n",
      "RELEASED    8\n",
      "Name: event, dtype: int64\n"
     ]
    }
   ],
   "source": [
    "andy_results = [];\n",
    "joe_results = [];\n",
    "\n",
    "number_of_chars_per_observation = 17\n",
    "\n",
    "for n in range(number_of_chars_per_observation,len(andy),number_of_chars_per_observation):\n",
    "#     andy_results.append(andy[n-number_of_chars_per_observation:n].event.value_counts())\n",
    "    print(andy[n-number_of_chars_per_observation:n].event.value_counts())\n",
    "#     joe_results.append(joe[n-number_of_chars_per_observation:n].event.value_counts())"
   ]
  },
  {
   "cell_type": "code",
   "execution_count": 92,
   "metadata": {
    "collapsed": false
   },
   "outputs": [
    {
     "data": {
      "text/plain": [
       "[<matplotlib.lines.Line2D at 0x11b1e3898>,\n",
       " <matplotlib.lines.Line2D at 0x11b1e3ac8>]"
      ]
     },
     "execution_count": 92,
     "metadata": {},
     "output_type": "execute_result"
    },
    {
     "data": {
      "image/png": "[encoded data removed]",
      "text/plain": [
       "<matplotlib.figure.Figure at 0x11b0c4208>"
      ]
     },
     "metadata": {},
     "output_type": "display_data"
    }
   ],
   "source": [
    "from matplotlib import pyplot\n",
    "pyplot.plot(andy_results)"
   ]
  },
  {
   "cell_type": "code",
   "execution_count": 100,
   "metadata": {
    "collapsed": false
   },
   "outputs": [
    {
     "name": "stdout",
     "output_type": "stream",
     "text": [
      "53.62318840579711% match for Andy\n"
     ]
    }
   ],
   "source": [
    "matched = 0;\n",
    "for k in andy_results:\n",
    "    if k['RELEASED'] == k['PRESSED']:\n",
    "        matched+=1;\n",
    "print ((str(matched/len(andy_results)*100))+\"% match for Andy\")"
   ]
  },
  {
   "cell_type": "code",
   "execution_count": 102,
   "metadata": {
    "collapsed": false
   },
   "outputs": [
    {
     "name": "stdout",
     "output_type": "stream",
     "text": [
      "55.072463768115945% match for Joe\n"
     ]
    }
   ],
   "source": [
    "matched = 0;\n",
    "for k in joe_results:\n",
    "    if k['RELEASED'] == k['PRESSED']:\n",
    "        matched+=1;\n",
    "print ((str(matched/len(joe_results)*100))+\"% match for Joe\")"
   ]
  },
  {
   "cell_type": "code",
   "execution_count": 103,
   "metadata": {
    "collapsed": false,
    "scrolled": true
   },
   "outputs": [
    {
     "name": "stdout",
     "output_type": "stream",
     "text": [
      "16 characters:\n",
      " 55.81395348837209% match for Andy\n",
      " 54.65116279069767% match for Joe\n",
      " \n",
      "17 characters:\n",
      " 0.0% match for Andy\n",
      " 0.0% match for Joe\n",
      " \n",
      "18 characters:\n",
      " 51.31578947368421% match for Andy\n",
      " 36.84210526315789% match for Joe\n",
      " \n",
      "19 characters:\n",
      " 0.0% match for Andy\n",
      " 0.0% match for Joe\n",
      " \n",
      "20 characters:\n",
      " 53.62318840579711% match for Andy\n",
      " 55.072463768115945% match for Joe\n",
      " \n",
      "21 characters:\n",
      " 0.0% match for Andy\n",
      " 0.0% match for Joe\n",
      " \n",
      "22 characters:\n",
      " 51.61290322580645% match for Andy\n",
      " 53.2258064516129% match for Joe\n",
      " \n",
      "23 characters:\n",
      " 0.0% match for Andy\n",
      " 0.0% match for Joe\n",
      " \n",
      "24 characters:\n",
      " 38.59649122807017% match for Andy\n",
      " 43.859649122807014% match for Joe\n",
      " \n",
      "25 characters:\n",
      " 0.0% match for Andy\n",
      " 0.0% match for Joe\n",
      " \n",
      "26 characters:\n",
      " 54.71698113207547% match for Andy\n",
      " 50.943396226415096% match for Joe\n",
      " \n",
      "27 characters:\n",
      " 0.0% match for Andy\n",
      " 0.0% match for Joe\n",
      " \n",
      "28 characters:\n",
      " 57.14285714285714% match for Andy\n",
      " 44.89795918367347% match for Joe\n",
      " \n",
      "29 characters:\n",
      " 0.0% match for Andy\n",
      " 0.0% match for Joe\n",
      " \n",
      "30 characters:\n",
      " 52.17391304347826% match for Andy\n",
      " 54.347826086956516% match for Joe\n",
      " \n",
      "31 characters:\n",
      " 0.0% match for Andy\n",
      " 0.0% match for Joe\n",
      " \n",
      "32 characters:\n",
      " 62.7906976744186% match for Andy\n",
      " 55.81395348837209% match for Joe\n",
      " \n",
      "33 characters:\n",
      " 0.0% match for Andy\n",
      " 0.0% match for Joe\n",
      " \n",
      "34 characters:\n",
      " 50.0% match for Andy\n",
      " 60.0% match for Joe\n",
      " \n"
     ]
    }
   ],
   "source": [
    "# BATCH PROCESS PARAMETER SEARCH\n",
    "\n",
    "for g in range(16,35,1):\n",
    "    number_of_chars_per_observation = g;\n",
    "    andy_results = [];\n",
    "    joe_results = [];\n",
    "    print (str(g)+\" characters:\")\n",
    "    for n in range(number_of_chars_per_observation,len(andy),number_of_chars_per_observation):\n",
    "        andy_results.append(andy[n-number_of_chars_per_observation:n].event.value_counts())\n",
    "        joe_results.append(joe[n-number_of_chars_per_observation:n].event.value_counts())\n",
    "\n",
    "    matched = 0;\n",
    "    for k in andy_results:\n",
    "        if k['RELEASED'] == k['PRESSED']:\n",
    "            matched+=1;\n",
    "    print (\" \"+(str(matched/len(andy_results)*100))+\"% match for Andy\")\n",
    "\n",
    "\n",
    "    matched = 0;\n",
    "    for k in joe_results:\n",
    "        if k['RELEASED'] == k['PRESSED']:\n",
    "            matched+=1;\n",
    "    print (\" \"+(str(matched/len(joe_results)*100))+\"% match for Joe\")\n",
    "    print ( \" \" )"
   ]
  },
  {
   "cell_type": "code",
   "execution_count": 91,
   "metadata": {
    "collapsed": false
   },
   "outputs": [
    {
     "data": {
      "text/plain": [
       "[<matplotlib.lines.Line2D at 0x11b0b37f0>,\n",
       " <matplotlib.lines.Line2D at 0x11b0b3a20>]"
      ]
     },
     "execution_count": 91,
     "metadata": {},
     "output_type": "execute_result"
    },
    {
     "data": {
      "image/png": "[encoded data removed]",
      "text/plain": [
       "<matplotlib.figure.Figure at 0x11aebe080>"
      ]
     },
     "metadata": {},
     "output_type": "display_data"
    }
   ],
   "source": [
    "pyplot.plot(joe_results)"
   ]
  },
  {
   "cell_type": "code",
   "execution_count": 109,
   "metadata": {
    "collapsed": false
   },
   "outputs": [
    {
     "data": {
      "text/plain": [
       "52"
      ]
     },
     "execution_count": 109,
     "metadata": {},
     "output_type": "execute_result"
    }
   ],
   "source": [
    "len(joe[joe['key']=='Backspace'])"
   ]
  },
  {
   "cell_type": "code",
   "execution_count": 111,
   "metadata": {
    "collapsed": false
   },
   "outputs": [
    {
     "data": {
      "text/plain": [
       "14"
      ]
     },
     "execution_count": 111,
     "metadata": {},
     "output_type": "execute_result"
    }
   ],
   "source": [
    "len(andy[andy['key']=='Backspace'])"
   ]
  },
  {
   "cell_type": "code",
   "execution_count": 114,
   "metadata": {
    "collapsed": false
   },
   "outputs": [
    {
     "data": {
      "text/plain": [
       "Backspace   -38\n",
       "T            -6\n",
       "Spacebar     -6\n",
       "O            -6\n",
       "Y            -4\n",
       "A            -4\n",
       "I            -2\n",
       "X            -2\n",
       "W            -2\n",
       "V            -2\n",
       "S            -2\n",
       "H            -2\n",
       "M            -2\n",
       "D            -2\n",
       "E            -2\n",
       "N             0\n",
       "Q             0\n",
       "R             0\n",
       "Shift         0\n",
       "P             0\n",
       "L             0\n",
       "'             0\n",
       "J             0\n",
       "G             0\n",
       "F             0\n",
       "B             0\n",
       "9             0\n",
       "6             0\n",
       "5             0\n",
       "1             0\n",
       "0             0\n",
       "/             0\n",
       ".             0\n",
       ",             0\n",
       "K             0\n",
       "C             2\n",
       "Z             2\n",
       "U             4\n",
       "Name: key, dtype: int64"
      ]
     },
     "execution_count": 114,
     "metadata": {},
     "output_type": "execute_result"
    }
   ],
   "source": [
    "(andy['key'].value_counts() - joe['key'].value_counts()).sort_values()"
   ]
  }
 ],
 "metadata": {
  "anaconda-cloud": {},
  "kernelspec": {
   "display_name": "Python [Root]",
   "language": "python",
   "name": "Python [Root]"
  },
  "language_info": {
   "codemirror_mode": {
    "name": "ipython",
    "version": 3
   },
   "file_extension": ".py",
   "mimetype": "text/x-python",
   "name": "python",
   "nbconvert_exporter": "python",
   "pygments_lexer": "ipython3",
   "version": "3.5.2"
  }
 },
 "nbformat": 4,
 "nbformat_minor": 0
}
