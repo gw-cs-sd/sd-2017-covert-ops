{
 "cells": [
  {
   "cell_type": "code",
   "execution_count": 8,
   "metadata": {
    "collapsed": true
   },
   "outputs": [],
   "source": [
    "import pandas as pd;\n",
    "import numpy as np;\n",
    "import os"
   ]
  },
  {
   "cell_type": "code",
   "execution_count": 13,
   "metadata": {
    "collapsed": false
   },
   "outputs": [],
   "source": [
    "genuine = {};\n",
    "genuine['pressToPress'] = [];\n",
    "genuine['pressToRelease'] = [];\n",
    "genuine['releaseToPress'] = [];\n",
    "genuine['releaseToRelease'] = [];\n",
    "impostor = {};\n",
    "impostor['pressToPress'] = [];\n",
    "impostor['pressToRelease'] = [];\n",
    "impostor['releaseToPress'] = [];\n",
    "impostor['releaseToRelease'] = [];\n",
    "\n",
    "for root, dirs, files in os.walk(\"data/user_001\", topdown=False):\n",
    "    for subdir in dirs:\n",
    "        try:\n",
    "            if(len(open(os.path.join(root,subdir)+\"/p_pr.txt\").readlines())==8):\n",
    "                if \"genuine\" in root:\n",
    "                    genuine['pressToPress'].append(open(os.path.join(root,subdir)+\"/p_pp.txt\").readlines())\n",
    "                    genuine['pressToRelease'].append(open(os.path.join(root,subdir)+\"/p_pr.txt\").readlines())\n",
    "                    genuine['releaseToPress'].append(open(os.path.join(root,subdir)+\"/p_rp.txt\").readlines())\n",
    "                    genuine['releaseToRelease'].append(open(os.path.join(root,subdir)+\"/p_rr.txt\").readlines())\n",
    "                else:\n",
    "                    impostor['pressToPress'].append(open(os.path.join(root,subdir)+\"/p_pp.txt\").readlines())\n",
    "                    impostor['pressToRelease'].append(open(os.path.join(root,subdir)+\"/p_pr.txt\").readlines())\n",
    "                    impostor['releaseToPress'].append(open(os.path.join(root,subdir)+\"/p_rp.txt\").readlines())\n",
    "                    impostor['releaseToRelease'].append(open(os.path.join(root,subdir)+\"/p_rr.txt\").readlines())\n",
    "#         ignore files that aren't timestampped keystroke data\n",
    "        except: \n",
    "            pass;"
   ]
  },
  {
   "cell_type": "code",
   "execution_count": 39,
   "metadata": {
    "collapsed": false
   },
   "outputs": [],
   "source": [
    "genuine['master'] = [genuine['pressToPress'][k] + genuine['pressToRelease'][k] + genuine['releaseToPress'][k] + genuine['releaseToRelease'][k] for k in range(0,len(genuine['pressToPress']))]\n",
    "impostor['master'] = [impostor['pressToPress'][k] + impostor['pressToRelease'][k] + impostor['releaseToPress'][k] + impostor['releaseToRelease'][k] for k in range(0,len(impostor['pressToPress']))]"
   ]
  },
  {
   "cell_type": "code",
   "execution_count": 45,
   "metadata": {
    "collapsed": false
   },
   "outputs": [],
   "source": [
    "genuine_df = pd.DataFrame(genuine['master']).astype(int)\n",
    "genuine_df['user'] = 'genuine'\n",
    "\n",
    "impostor_df = pd.DataFrame(impostor['master']).astype(int)\n",
    "impostor_df['user'] = 'impostor'"
   ]
  },
  {
   "cell_type": "code",
   "execution_count": 66,
   "metadata": {
    "collapsed": false
   },
   "outputs": [],
   "source": [
    "dataset = pd.concat([genuine_df.iloc[:100],impostor_df],ignore_index=True)\n"
   ]
  },
  {
   "cell_type": "code",
   "execution_count": 72,
   "metadata": {
    "collapsed": false
   },
   "outputs": [],
   "source": [
    "y=dataset['user']\n",
    "X=dataset.drop(['user'], axis=1)\n"
   ]
  },
  {
   "cell_type": "code",
   "execution_count": 73,
   "metadata": {
    "collapsed": true
   },
   "outputs": [],
   "source": [
    "from sklearn.model_selection import train_test_split\n",
    "X_train, X_test, y_train, y_test = train_test_split(X, y, test_size=0.33, random_state=42)\n"
   ]
  },
  {
   "cell_type": "code",
   "execution_count": 76,
   "metadata": {
    "collapsed": false
   },
   "outputs": [],
   "source": [
    "from sklearn.svm import LinearSVC\n",
    "\n",
    "svc = LinearSVC().fit(X_train,y_train)"
   ]
  },
  {
   "cell_type": "code",
   "execution_count": 78,
   "metadata": {
    "collapsed": false
   },
   "outputs": [
    {
     "data": {
      "text/plain": [
       "0.97014925373134331"
      ]
     },
     "execution_count": 78,
     "metadata": {},
     "output_type": "execute_result"
    }
   ],
   "source": [
    "svc.score(X_test,y_test)"
   ]
  },
  {
   "cell_type": "code",
   "execution_count": 80,
   "metadata": {
    "collapsed": false
   },
   "outputs": [
    {
     "data": {
      "text/plain": [
       "95      genuine\n",
       "15      genuine\n",
       "30      genuine\n",
       "158    impostor\n",
       "128    impostor\n",
       "115    impostor\n",
       "69      genuine\n",
       "171    impostor\n",
       "175    impostor\n",
       "45      genuine\n",
       "66      genuine\n",
       "183    impostor\n",
       "165    impostor\n",
       "78      genuine\n",
       "187    impostor\n",
       "178    impostor\n",
       "56      genuine\n",
       "152    impostor\n",
       "82      genuine\n",
       "68      genuine\n",
       "124    impostor\n",
       "16      genuine\n",
       "148    impostor\n",
       "93      genuine\n",
       "65      genuine\n",
       "60      genuine\n",
       "84      genuine\n",
       "67      genuine\n",
       "125    impostor\n",
       "132    impostor\n",
       "         ...   \n",
       "137    impostor\n",
       "164    impostor\n",
       "76      genuine\n",
       "79      genuine\n",
       "198    impostor\n",
       "38      genuine\n",
       "24      genuine\n",
       "122    impostor\n",
       "196    impostor\n",
       "29      genuine\n",
       "19      genuine\n",
       "143    impostor\n",
       "86      genuine\n",
       "114    impostor\n",
       "174    impostor\n",
       "5       genuine\n",
       "126    impostor\n",
       "117    impostor\n",
       "73      genuine\n",
       "140    impostor\n",
       "98      genuine\n",
       "173    impostor\n",
       "96      genuine\n",
       "170    impostor\n",
       "97      genuine\n",
       "31      genuine\n",
       "12      genuine\n",
       "35      genuine\n",
       "119    impostor\n",
       "42      genuine\n",
       "Name: user, dtype: object"
      ]
     },
     "execution_count": 80,
     "metadata": {},
     "output_type": "execute_result"
    }
   ],
   "source": []
  }
 ],
 "metadata": {
  "kernelspec": {
   "display_name": "Python [Root]",
   "language": "python",
   "name": "Python [Root]"
  },
  "language_info": {
   "codemirror_mode": {
    "name": "ipython",
    "version": 3
   },
   "file_extension": ".py",
   "mimetype": "text/x-python",
   "name": "python",
   "nbconvert_exporter": "python",
   "pygments_lexer": "ipython3",
   "version": "3.5.2"
  }
 },
 "nbformat": 4,
 "nbformat_minor": 0
}
