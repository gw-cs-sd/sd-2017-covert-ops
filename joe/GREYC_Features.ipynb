{
 "cells": [
  {
   "cell_type": "code",
   "execution_count": 8,
   "metadata": {
    "collapsed": true
   },
   "outputs": [],
   "source": [
    "import pandas as pd;\n",
    "import numpy as np;\n",
    "import os"
   ]
  },
  {
   "cell_type": "code",
   "execution_count": 13,
   "metadata": {
    "collapsed": false
   },
   "outputs": [],
   "source": [
    "# ~450 genuine entries, ~150 impostor entries\n",
    "\n",
    "genuine = {};\n",
    "genuine['pressToPress'] = [];\n",
    "genuine['pressToRelease'] = [];\n",
    "genuine['releaseToPress'] = [];\n",
    "genuine['releaseToRelease'] = [];\n",
    "impostor = {};\n",
    "impostor['pressToPress'] = [];\n",
    "impostor['pressToRelease'] = [];\n",
    "impostor['releaseToPress'] = [];\n",
    "impostor['releaseToRelease'] = [];\n",
    "\n",
    "for root, dirs, files in os.walk(\"data/user_001\", topdown=False):\n",
    "    for subdir in dirs:\n",
    "        try:\n",
    "            if(len(open(os.path.join(root,subdir)+\"/p_pr.txt\").readlines())==8):\n",
    "                if \"genuine\" in root:\n",
    "                    genuine['pressToPress'].append(open(os.path.join(root,subdir)+\"/p_pp.txt\").readlines())\n",
    "                    genuine['pressToRelease'].append(open(os.path.join(root,subdir)+\"/p_pr.txt\").readlines())\n",
    "                    genuine['releaseToPress'].append(open(os.path.join(root,subdir)+\"/p_rp.txt\").readlines())\n",
    "                    genuine['releaseToRelease'].append(open(os.path.join(root,subdir)+\"/p_rr.txt\").readlines())\n",
    "                else:\n",
    "                    impostor['pressToPress'].append(open(os.path.join(root,subdir)+\"/p_pp.txt\").readlines())\n",
    "                    impostor['pressToRelease'].append(open(os.path.join(root,subdir)+\"/p_pr.txt\").readlines())\n",
    "                    impostor['releaseToPress'].append(open(os.path.join(root,subdir)+\"/p_rp.txt\").readlines())\n",
    "                    impostor['releaseToRelease'].append(open(os.path.join(root,subdir)+\"/p_rr.txt\").readlines())\n",
    "#         ignore files that aren't timestampped keystroke data\n",
    "        except: \n",
    "            pass;"
   ]
  },
  {
   "cell_type": "code",
   "execution_count": 39,
   "metadata": {
    "collapsed": false
   },
   "outputs": [],
   "source": [
    "genuine['master'] = [genuine['pressToPress'][k] + genuine['pressToRelease'][k] + genuine['releaseToPress'][k] + genuine['releaseToRelease'][k] for k in range(0,len(genuine['pressToPress']))]\n",
    "impostor['master'] = [impostor['pressToPress'][k] + impostor['pressToRelease'][k] + impostor['releaseToPress'][k] + impostor['releaseToRelease'][k] for k in range(0,len(impostor['pressToPress']))]"
   ]
  },
  {
   "cell_type": "code",
   "execution_count": 45,
   "metadata": {
    "collapsed": false
   },
   "outputs": [],
   "source": [
    "genuine_df = pd.DataFrame(genuine['master']).astype(int)\n",
    "genuine_df['user'] = 'genuine'\n",
    "\n",
    "impostor_df = pd.DataFrame(impostor['master']).astype(int)\n",
    "impostor_df['user'] = 'impostor'"
   ]
  },
  {
   "cell_type": "code",
   "execution_count": 66,
   "metadata": {
    "collapsed": false
   },
   "outputs": [],
   "source": [
    "# Balanced dataset; 100 Genuine trials vs 100 Impostor trials\n",
    "\n",
    "dataset = pd.concat([genuine_df.iloc[:100],impostor_df],ignore_index=True)\n"
   ]
  },
  {
   "cell_type": "code",
   "execution_count": 72,
   "metadata": {
    "collapsed": false
   },
   "outputs": [],
   "source": [
    "y=dataset['user']\n",
    "X=dataset.drop(['user'], axis=1)\n"
   ]
  },
  {
   "cell_type": "code",
   "execution_count": 73,
   "metadata": {
    "collapsed": true
   },
   "outputs": [],
   "source": [
    "# Split and shuffle \n",
    "\n",
    "from sklearn.model_selection import train_test_split\n",
    "X_train, X_test, y_train, y_test = train_test_split(X, y, test_size=0.33, random_state=42)\n"
   ]
  },
  {
   "cell_type": "code",
   "execution_count": 76,
   "metadata": {
    "collapsed": false
   },
   "outputs": [],
   "source": [
    "# Linear Support Vector Classifier\n",
    "\n",
    "from sklearn.svm import LinearSVC\n",
    "svc = LinearSVC().fit(X_train,y_train)"
   ]
  },
  {
   "cell_type": "code",
   "execution_count": 81,
   "metadata": {
    "collapsed": false
   },
   "outputs": [
    {
     "data": {
      "text/plain": [
       "0.97014925373134331"
      ]
     },
     "execution_count": 81,
     "metadata": {},
     "output_type": "execute_result"
    }
   ],
   "source": [
    "# Predict on test set and evaluate performance\n",
    "svc.score(X_test,y_test)"
   ]
  },
  {
   "cell_type": "code",
   "execution_count": 83,
   "metadata": {
    "collapsed": false
   },
   "outputs": [
    {
     "data": {
      "text/plain": [
       "array([ -2.59468956,  -3.2022223 ,  -1.78407757,   4.05557259,\n",
       "         2.05552801,   4.43562225,  -3.31075644,   2.72697554,\n",
       "         8.13334767,  -2.66732503,  -1.88563936,   2.18988617,\n",
       "         2.22274085,  -3.54613405,   4.62955822,  12.70237562,\n",
       "        -1.20488528,   5.26198843,  -2.70820067,  -1.94658727,\n",
       "        29.49280889,  -1.98788336,  -0.65344032,  -3.29425849,\n",
       "        -1.71898254,  -2.27673012,  -2.24784205,  -2.92277996,\n",
       "         6.82372577,   1.72731317,  -2.51586524,  -3.10345419,\n",
       "        -2.09759159,  -1.88391615,   6.27399652,   0.80494102,\n",
       "         7.31521384,   1.24707589,   0.36207805,  -3.06418764,\n",
       "        -2.68261618,  11.94471776,  -1.86471098,  -1.72342402,\n",
       "        25.7867233 ,  12.94292658,  -2.93913707,  -3.56402103,\n",
       "         6.26503144,  -2.47701015,   7.58044568,   3.54048593,\n",
       "        -1.36670236,   4.29746872,   7.33271783,  -4.3776117 ,\n",
       "         2.50920096,  -2.37649838,   3.36816757,  -2.10516154,\n",
       "        -1.72867916,  -0.56373785,  -1.94265304,  -4.81950975,\n",
       "        -4.20274559,   3.80784231,  -1.7135783 ])"
      ]
     },
     "execution_count": 83,
     "metadata": {},
     "output_type": "execute_result"
    }
   ],
   "source": [
    "svc.decision_function(X_test)"
   ]
  },
  {
   "cell_type": "code",
   "execution_count": 84,
   "metadata": {
    "collapsed": true
   },
   "outputs": [],
   "source": [
    "# DecisionTree Classifier\n",
    "from sklearn import tree\n",
    "dt = tree.DecisionTreeClassifier().fit(X_train,y_train)\n"
   ]
  },
  {
   "cell_type": "code",
   "execution_count": 86,
   "metadata": {
    "collapsed": false
   },
   "outputs": [
    {
     "data": {
      "text/plain": [
       "0.9850746268656716"
      ]
     },
     "execution_count": 86,
     "metadata": {},
     "output_type": "execute_result"
    }
   ],
   "source": [
    "dt.score(X_test,y_test)"
   ]
  },
  {
   "cell_type": "code",
   "execution_count": 88,
   "metadata": {
    "collapsed": false,
    "scrolled": true
   },
   "outputs": [
    {
     "data": {
      "text/plain": [
       "array([ 0.        ,  0.        ,  0.95668507,  0.        ,  0.        ,\n",
       "        0.        ,  0.        ,  0.        ,  0.        ,  0.        ,\n",
       "        0.        ,  0.01543013,  0.        ,  0.        ,  0.        ,\n",
       "        0.        ,  0.        ,  0.        ,  0.        ,  0.        ,\n",
       "        0.        ,  0.        ,  0.        ,  0.        ,  0.        ,\n",
       "        0.0278848 ,  0.        ,  0.        ,  0.        ])"
      ]
     },
     "execution_count": 88,
     "metadata": {},
     "output_type": "execute_result"
    }
   ],
   "source": [
    "dt.feature_importances_"
   ]
  },
  {
   "cell_type": "code",
   "execution_count": 95,
   "metadata": {
    "collapsed": false
   },
   "outputs": [
    {
     "data": {
      "text/plain": [
       "count    100.000000\n",
       "mean     145.910000\n",
       "std       35.081174\n",
       "min       79.000000\n",
       "25%      120.000000\n",
       "50%      136.000000\n",
       "75%      160.000000\n",
       "max      288.000000\n",
       "Name: 2, dtype: float64"
      ]
     },
     "execution_count": 95,
     "metadata": {},
     "output_type": "execute_result"
    }
   ],
   "source": [
    "genuine_df.iloc[:100][2].describe()"
   ]
  },
  {
   "cell_type": "code",
   "execution_count": 94,
   "metadata": {
    "collapsed": false
   },
   "outputs": [
    {
     "data": {
      "text/plain": [
       "count     101.000000\n",
       "mean      438.811881\n",
       "std       225.546923\n",
       "min       221.000000\n",
       "25%       294.000000\n",
       "50%       362.000000\n",
       "75%       512.000000\n",
       "max      1232.000000\n",
       "Name: 2, dtype: float64"
      ]
     },
     "execution_count": 94,
     "metadata": {},
     "output_type": "execute_result"
    }
   ],
   "source": [
    "impostor_df[2].describe()\n"
   ]
  }
 ],
 "metadata": {
  "kernelspec": {
   "display_name": "Python [Root]",
   "language": "python",
   "name": "Python [Root]"
  },
  "language_info": {
   "codemirror_mode": {
    "name": "ipython",
    "version": 3
   },
   "file_extension": ".py",
   "mimetype": "text/x-python",
   "name": "python",
   "nbconvert_exporter": "python",
   "pygments_lexer": "ipython3",
   "version": "3.5.2"
  }
 },
 "nbformat": 4,
 "nbformat_minor": 0
}
