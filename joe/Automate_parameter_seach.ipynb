{
 "cells": [
  {
   "cell_type": "code",
   "execution_count": 1,
   "metadata": {
    "collapsed": false
   },
   "outputs": [],
   "source": [
    "import pandas as pd;\n",
    "import numpy as np;\n",
    "import json;\n",
    "\n",
    "# import sys\n",
    "# print (sys.argv[1])"
   ]
  },
  {
   "cell_type": "code",
   "execution_count": 2,
   "metadata": {
    "collapsed": false
   },
   "outputs": [],
   "source": [
    "rawJSON = json.loads(\"\".join(open('keystrokes-34c38-export (7).json').readlines()))"
   ]
  },
  {
   "cell_type": "code",
   "execution_count": 3,
   "metadata": {
    "collapsed": false
   },
   "outputs": [],
   "source": [
    "def calculatePerKeyDwellTime(dataframe,DEBUG=False):\n",
    "    dwell_times = {}\n",
    "    for i in set(dataframe.key.unique()):\n",
    "        if(DEBUG):\n",
    "            print (i);\n",
    "        running_average = 0;\n",
    "        subset = dataframe[dataframe['key'] == i];\n",
    "        if(len(dataframe[dataframe['key']==i])%2==0):\n",
    "            for g in range(len(subset)-1):\n",
    "                running_average+=(float(subset.iloc[g+1]['timestamp']) - float(subset.iloc[g]['timestamp']));\n",
    "            if(DEBUG):\n",
    "                print (\"running average: \"+str(running_average));\n",
    "            running_average/=len(subset);\n",
    "            if(DEBUG):\n",
    "                print (\"running average/subset_len = \"+str(running_average));\n",
    "        else: # last key release not recorded\n",
    "            for g in range(len(subset)-2):\n",
    "                running_average+=(float(subset.iloc[g+1]['timestamp']) - float(subset.iloc[g]['timestamp']));\n",
    "            running_average/=len(subset);\n",
    "        dwell_times[i] = running_average;\n",
    "        if(DEBUG):\n",
    "            print (\" \");\n",
    "    return dwell_times;    \n",
    "\n",
    "\n",
    "def calculateFlightTime(dataframe):\n",
    "#     time between release and next key press\n",
    "    flight_times = [];\n",
    "    index_of_releases = ((dataframe[dataframe['action']=='RELEASED']).index.tolist());\n",
    "    range_of_events = list(range(index_of_releases[0], index_of_releases[-1]));\n",
    "    index_of_presses = list(set(range_of_events).difference(index_of_releases));\n",
    "    try:\n",
    "        first_press = index_of_presses[0];\n",
    "#         print (index_of_presses)\n",
    "    except:\n",
    "        return False;\n",
    "    while (index_of_presses[0]<index_of_releases[0]):\n",
    "        del index_of_releases[0];\n",
    "    while(len(index_of_presses)>0):\n",
    "        flight_times.append((float(dataframe['timestamp'].iloc[index_of_presses[0]]) - float(dataframe['timestamp'].iloc[index_of_releases[0]])));\n",
    "        del index_of_releases[0]\n",
    "        del index_of_presses[0]\n",
    "    return flight_times;"
   ]
  },
  {
   "cell_type": "code",
   "execution_count": 4,
   "metadata": {
    "collapsed": false
   },
   "outputs": [],
   "source": [
    "keystrokes=pd.DataFrame.from_dict(rawJSON)\n",
    "obj = (keystrokes[:1]['samples'])\n",
    "keystrokes=pd.DataFrame.from_dict(rawJSON['samples']).T"
   ]
  },
  {
   "cell_type": "code",
   "execution_count": 5,
   "metadata": {
    "collapsed": false,
    "scrolled": true
   },
   "outputs": [],
   "source": [
    "# Just the new records\n",
    "lorem_ipsum = keystrokes.iloc[22:]"
   ]
  },
  {
   "cell_type": "code",
   "execution_count": 6,
   "metadata": {
    "collapsed": false
   },
   "outputs": [
    {
     "data": {
      "text/html": [
       "<div>\n",
       "<table border=\"1\" class=\"dataframe\">\n",
       "  <thead>\n",
       "    <tr style=\"text-align: right;\">\n",
       "      <th></th>\n",
       "      <th>keystrokes</th>\n",
       "      <th>subject</th>\n",
       "    </tr>\n",
       "  </thead>\n",
       "  <tbody>\n",
       "    <tr>\n",
       "      <th>-KXcfQLt3sL8sFQLSA25</th>\n",
       "      <td>[[\"1480298596527 Shift PRESSED\",\"1480298597351...</td>\n",
       "      <td>An Dee</td>\n",
       "    </tr>\n",
       "    <tr>\n",
       "      <th>-KXchppS19K4bkiMZIho</th>\n",
       "      <td>[[\"1480299235028 Shift PRESSED\",\"1480299235217...</td>\n",
       "      <td>Joseph Haaga</td>\n",
       "    </tr>\n",
       "  </tbody>\n",
       "</table>\n",
       "</div>"
      ],
      "text/plain": [
       "                                                             keystrokes  \\\n",
       "-KXcfQLt3sL8sFQLSA25  [[\"1480298596527 Shift PRESSED\",\"1480298597351...   \n",
       "-KXchppS19K4bkiMZIho  [[\"1480299235028 Shift PRESSED\",\"1480299235217...   \n",
       "\n",
       "                           subject  \n",
       "-KXcfQLt3sL8sFQLSA25        An Dee  \n",
       "-KXchppS19K4bkiMZIho  Joseph Haaga  "
      ]
     },
     "execution_count": 6,
     "metadata": {},
     "output_type": "execute_result"
    }
   ],
   "source": [
    "lorem_ipsum"
   ]
  },
  {
   "cell_type": "code",
   "execution_count": 7,
   "metadata": {
    "collapsed": false
   },
   "outputs": [],
   "source": [
    "left_DwellTimes = [];\n",
    "right_DwellTimes=[];\n",
    "space_DwellTimes=[];\n",
    "left_hand_keys = ['q','w','e','r','g','a','s','d','f','g','z','x','c','v'];\n"
   ]
  },
  {
   "cell_type": "code",
   "execution_count": 8,
   "metadata": {
    "collapsed": false
   },
   "outputs": [],
   "source": [
    "if(sys.argv[1]=='-v' or sys.argv[1]=='--verbose'):\n",
    "    __VERBOSE__ = True;\n",
    "    number_of_chars_per_observation = int(sys.argv[2])\n",
    "else:\n",
    "    __VERBOSE__ = False;\n",
    "    number_of_chars_per_observation = int(sys.argv[1])"
   ]
  },
  {
   "cell_type": "code",
   "execution_count": 9,
   "metadata": {
    "collapsed": false
   },
   "outputs": [],
   "source": [
    "#  .o88o. 8888o. 8888o. 88  88 \n",
    "#  88  88 88  88 88  88 88  88 \n",
    "#  888888 88  88 88  88 'Y8888 \n",
    "#  88  88 88  88 88  88     88 \n",
    "#  88  88 88  88 8888Y' 8888Y' \n",
    "\n",
    "left_hand_keys = ['q','w','e','r','g','a','s','d','f','g','z','x','c','v'];\n",
    "\n",
    "subject_lorem_keystrokes = json.loads(lorem_ipsum['keystrokes'].iloc[0])[0]\n",
    "len(subject_lorem_keystrokes)\n",
    "# There are 1456 keystroke events. We will divide these into groups of 16, giving us 91 records\n",
    "split_keystrokes = [subject_lorem_keystrokes[x:x+15] for x in range(0, len(subject_lorem_keystrokes),number_of_chars_per_observation)]\n",
    "\n",
    "descriptive_stats = [];\n",
    "for n in split_keystrokes:\n",
    "    left_DwellTimes = [];\n",
    "    right_DwellTimes=[];\n",
    "    space_DwellTimes=[];\n",
    "    split_list=[];\n",
    "    raw = pd.DataFrame(n);\n",
    "    for n in raw.index:\n",
    "        split_list.append(raw[0][n].split(\" \"));\n",
    "    split = pd.DataFrame(split_list,columns=['timestamp','key','action']);\n",
    "    \n",
    "    for n in calculatePerKeyDwellTime(split):\n",
    "        if(calculatePerKeyDwellTime(split)[n] != 0 ):\n",
    "            if n.lower() in left_hand_keys:\n",
    "                left_DwellTimes.append(calculatePerKeyDwellTime(split)[n]);\n",
    "            elif n.lower() == 'spacebar':\n",
    "                space_DwellTimes.append(calculatePerKeyDwellTime(split)[n]);\n",
    "            else:\n",
    "                right_DwellTimes.append(calculatePerKeyDwellTime(split)[n]);\n",
    "#     results = list(pd.Series(list(calculatePerKeyDwellTime(split).values())).describe())[1:];\n",
    "    results = list(pd.Series(list(left_DwellTimes)).describe())[1:];\n",
    "#     results+=((list(pd.Series(calculateFlightTime(split)).describe())[1:]))\n",
    "    results += list(pd.Series(list(right_DwellTimes)).describe())[1:];\n",
    "    results += list(pd.Series(list(space_DwellTimes)).describe())[1:];\n",
    "    results += ((list(pd.Series(calculateFlightTime(split)).describe())[1:]))\n",
    "    descriptive_stats.append(results);\n",
    "    \n",
    "andy = pd.DataFrame(descriptive_stats);\n",
    "andy['subject'] = 'Andy';\n",
    "\n",
    "# andy.plot()"
   ]
  },
  {
   "cell_type": "code",
   "execution_count": 10,
   "metadata": {
    "collapsed": false,
    "scrolled": true
   },
   "outputs": [],
   "source": [
    "#      88 .o88o. 888888 \n",
    "#      88 88  88 88     \n",
    "#      88 88  88 8888   \n",
    "#  88  88 88  88 88     \n",
    "#  'Y88Y' 'Y88Y' 888888 \n",
    "\n",
    "left_hand_keys = ['q','w','e','r','g','a','s','d','f','g','z','x','c','v'];\n",
    "\n",
    "subject_lorem_keystrokes = json.loads(lorem_ipsum['keystrokes'].iloc[0])[0]\n",
    "len(subject_lorem_keystrokes)\n",
    "# There are 1456 keystroke events. We will divide these into groups of 16, giving us 91 records\n",
    "split_keystrokes = [subject_lorem_keystrokes[x:x+15] for x in range(0, len(subject_lorem_keystrokes),16)]\n",
    "\n",
    "descriptive_stats = [];\n",
    "for n in split_keystrokes:\n",
    "#     print (' ');\n",
    "    left_DwellTimes = [];\n",
    "    right_DwellTimes=[];\n",
    "    space_DwellTimes=[];\n",
    "    split_list=[];\n",
    "    raw = pd.DataFrame(n);\n",
    "    for n in raw.index:\n",
    "        split_list.append(raw[0][n].split(\" \"));\n",
    "    split = pd.DataFrame(split_list,columns=['timestamp','key','action']);\n",
    "    \n",
    "    for n in calculatePerKeyDwellTime(split):\n",
    "        if(calculatePerKeyDwellTime(split)[n] != 0 ):\n",
    "            if n.lower() in left_hand_keys:\n",
    "                left_DwellTimes.append(calculatePerKeyDwellTime(split)[n]);\n",
    "            elif n.lower() == 'spacebar':\n",
    "                space_DwellTimes.append(calculatePerKeyDwellTime(split)[n]);\n",
    "            else:\n",
    "                right_DwellTimes.append(calculatePerKeyDwellTime(split)[n]);\n",
    "    results = list(pd.Series(list(left_DwellTimes)).describe())[1:];\n",
    "    results += list(pd.Series(list(right_DwellTimes)).describe())[1:];\n",
    "    results += list(pd.Series(list(space_DwellTimes)).describe())[1:];\n",
    "    results += ((list(pd.Series(calculateFlightTime(split)).describe())[1:]))\n",
    "    descriptive_stats.append(results);\n",
    "    \n",
    "joe = pd.DataFrame(descriptive_stats);\n",
    "joe['subject'] = 'Joe';\n",
    "\n",
    "# joe.plot()"
   ]
  },
  {
   "cell_type": "code",
   "execution_count": 11,
   "metadata": {
    "collapsed": false
   },
   "outputs": [],
   "source": [
    "sample_descriptive_stats = pd.Series(list(calculatePerKeyDwellTime(split).values())).describe()\n",
    "# sample_descriptive_stats['max']-sample_descriptive_stats['50%']"
   ]
  },
  {
   "cell_type": "code",
   "execution_count": 12,
   "metadata": {
    "collapsed": false,
    "scrolled": true
   },
   "outputs": [],
   "source": [
    "# combine Joe & Andy\n",
    "master = joe.append(andy);\n",
    "master = master.reset_index();\n",
    "answers = master['subject'];\n",
    "X = master.drop('subject',axis=1);\n",
    "# X"
   ]
  },
  {
   "cell_type": "code",
   "execution_count": 13,
   "metadata": {
    "collapsed": false
   },
   "outputs": [],
   "source": [
    "ft_labels = [\"flightTime \"+n for n in list(pd.Series([1,2,3,4]).describe()[1:].keys())]\n",
    "dt_labels = [\"dwellTime \"+n for n in list(pd.Series([1,2,3,4]).describe()[1:].keys())]\n"
   ]
  },
  {
   "cell_type": "code",
   "execution_count": 14,
   "metadata": {
    "collapsed": false
   },
   "outputs": [],
   "source": [
    "labels = dt_labels + ft_labels"
   ]
  },
  {
   "cell_type": "code",
   "execution_count": 15,
   "metadata": {
    "collapsed": false,
    "scrolled": true
   },
   "outputs": [],
   "source": [
    "joe = joe.fillna(value=0)\n",
    "andy = andy.fillna(value=0)"
   ]
  },
  {
   "cell_type": "code",
   "execution_count": 16,
   "metadata": {
    "collapsed": true
   },
   "outputs": [],
   "source": [
    "master = joe.append(andy);\n",
    "master = master.reset_index();\n",
    "answers = master['subject'];\n",
    "X = master.drop('subject',axis=1);"
   ]
  },
  {
   "cell_type": "code",
   "execution_count": 17,
   "metadata": {
    "collapsed": true
   },
   "outputs": [],
   "source": [
    "from sklearn.model_selection import train_test_split\n",
    "X_train, X_test, y_train, y_test = train_test_split(X, answers, test_size=0.33, random_state=42)"
   ]
  },
  {
   "cell_type": "code",
   "execution_count": 18,
   "metadata": {
    "collapsed": false
   },
   "outputs": [
    {
     "data": {
      "text/plain": [
       "0.46153846153846156"
      ]
     },
     "execution_count": 18,
     "metadata": {},
     "output_type": "execute_result"
    }
   ],
   "source": [
    "from sklearn import tree\n",
    "clf = tree.DecisionTreeClassifier()\n",
    "clf = clf.fit(X_train, y_train)\n",
    "print (\"DecisionTree: \"+ str(clf.score(X_test, y_test)));\n",
    "# list(clf.feature_importances_)"
   ]
  },
  {
   "cell_type": "code",
   "execution_count": 19,
   "metadata": {
    "collapsed": false
   },
   "outputs": [
    {
     "data": {
      "text/plain": [
       "0.53846153846153844"
      ]
     },
     "execution_count": 19,
     "metadata": {},
     "output_type": "execute_result"
    }
   ],
   "source": [
    "from sklearn.neural_network import MLPClassifier\n",
    "clf = MLPClassifier(solver='lbfgs', alpha=1e-5, hidden_layer_sizes=(10, 4), random_state=5)\n",
    "clf.fit(X_train, y_train)\n",
    "# clf.score(X_test, y_test)\n",
    "print (\"MultiLayer Perceptron: \"+ str(clf.score(X_test, y_test)));"
   ]
  },
  {
   "cell_type": "code",
   "execution_count": 20,
   "metadata": {
    "collapsed": false,
    "scrolled": true
   },
   "outputs": [
    {
     "data": {
      "text/plain": [
       "0.46153846153846156"
      ]
     },
     "execution_count": 20,
     "metadata": {},
     "output_type": "execute_result"
    }
   ],
   "source": [
    "from sklearn.svm import SVC\n",
    "# clf1 = SVC(C=1.0, verbose=True, probability=True, decision_function_shape='ovr', kernel='linear')\n",
    "clf1 = SVC(C=1.0, verbose=False, probability=True, decision_function_shape='ovr', kernel='linear')\n",
    "clf1.fit(X_train, y_train) \n",
    "# clf1.predict_proba(X_test)\n",
    "# clf1.score(X_test,y_test)\n",
    "print (\"SupportVectorMachine: \"+ str(clf1.score(X_test, y_test)));"
   ]
  },
  {
   "cell_type": "code",
   "execution_count": 21,
   "metadata": {
    "collapsed": false
   },
   "outputs": [
    {
     "name": "stderr",
     "output_type": "stream",
     "text": [
      "/Users/joseph/anaconda3/lib/python3.5/site-packages/sklearn/discriminant_analysis.py:387: UserWarning: Variables are collinear.\n",
      "  warnings.warn(\"Variables are collinear.\")\n"
     ]
    },
    {
     "data": {
      "text/plain": [
       "0.5"
      ]
     },
     "execution_count": 21,
     "metadata": {},
     "output_type": "execute_result"
    }
   ],
   "source": [
    "from sklearn.discriminant_analysis import LinearDiscriminantAnalysis\n",
    "clf = LinearDiscriminantAnalysis()\n",
    "clf.fit(X_train, y_train)\n",
    "LinearDiscriminantAnalysis(n_components=None, priors=None, shrinkage=None,\n",
    "              solver='svd', store_covariance=False, tol=0.0001)\n",
    "# clf.score(X_test,y_test)\n",
    "print (\"LDA: \"+ str(clf.score(X_test, y_test)));"
   ]
  },
  {
   "cell_type": "code",
   "execution_count": 22,
   "metadata": {
    "collapsed": false
   },
   "outputs": [
    {
     "data": {
      "text/plain": [
       "0.55769230769230771"
      ]
     },
     "execution_count": 22,
     "metadata": {},
     "output_type": "execute_result"
    }
   ],
   "source": [
    "from sklearn.naive_bayes import GaussianNB\n",
    "clf = GaussianNB()\n",
    "clf.fit(X_train, y_train)\n",
    "GaussianNB(priors=None)\n",
    "# clf.score(X_test,y_test)\n",
    "print (\"GaussianNB: \"+ str(clf.score(X_test, y_test)));\n",
    "# clf.get_params()"
   ]
  },
  {
   "cell_type": "code",
   "execution_count": 23,
   "metadata": {
    "collapsed": false
   },
   "outputs": [
    {
     "data": {
      "text/plain": [
       "0.38461538461538464"
      ]
     },
     "execution_count": 23,
     "metadata": {},
     "output_type": "execute_result"
    }
   ],
   "source": [
    "from sklearn.ensemble import RandomForestClassifier\n",
    "clf = RandomForestClassifier(n_estimators=100, )\n",
    "clf = clf.fit(X_train, y_train)\n",
    "# clf.score(X_test, y_test)\n",
    "print (\"RandomForest: \"+ str(clf.score(X_test, y_test)));"
   ]
  },
  {
   "cell_type": "code",
   "execution_count": 24,
   "metadata": {
    "collapsed": false
   },
   "outputs": [
    {
     "data": {
      "text/plain": [
       "0.34615384615384615"
      ]
     },
     "execution_count": 24,
     "metadata": {},
     "output_type": "execute_result"
    }
   ],
   "source": [
    "from sklearn.ensemble import GradientBoostingClassifier\n",
    "# clf = GradientBoostingClassifier(n_estimators=50, learning_rate=1.8, max_depth=5, random_state=0).fit(X_train, y_train)\n",
    "clf = GradientBoostingClassifier(n_estimators=50, learning_rate=1.8, max_depth=5, random_state=0).fit(X_train, y_train)\n",
    "# clf.score(X_test, y_test) \n",
    "print (\"GradientBoostingClassifier: \"+ str(clf.score(X_test, y_test)));"
   ]
  }
 ],
 "metadata": {
  "anaconda-cloud": {},
  "kernelspec": {
   "display_name": "Python [Root]",
   "language": "python",
   "name": "Python [Root]"
  },
  "language_info": {
   "codemirror_mode": {
    "name": "ipython",
    "version": 3
   },
   "file_extension": ".py",
   "mimetype": "text/x-python",
   "name": "python",
   "nbconvert_exporter": "python",
   "pygments_lexer": "ipython3",
   "version": "3.5.2"
  }
 },
 "nbformat": 4,
 "nbformat_minor": 0
}
