{
 "cells": [
  {
   "cell_type": "code",
   "execution_count": 1,
   "metadata": {
    "collapsed": true
   },
   "outputs": [],
   "source": [
    "# Using the GREYC keystroke dataset from http://www.vmonaco.com/keystroke-datasets\n",
    "import pandas as pd;\n",
    "import numpy as np;\n",
    "import os;"
   ]
  },
  {
   "cell_type": "code",
   "execution_count": 2,
   "metadata": {
    "collapsed": false
   },
   "outputs": [],
   "source": [
    "# Get key presses and releases on the password entry task for genuine and impostor users\n",
    "\n",
    "genuine_list_press=[];\n",
    "impostor_list_press=[];\n",
    "genuine_list_release=[];\n",
    "impostor_list_release=[];\n",
    "\n",
    "for root, dirs, files in os.walk(\"data/user_001\", topdown=False):\n",
    "    for subdir in dirs:\n",
    "        try:\n",
    "            if \"genuine\" in root:\n",
    "                genuine_list_press.append(open(os.path.join(root,subdir)+\"/p_raw_press.txt\").readlines())\n",
    "                genuine_list_release.append(open(os.path.join(root,subdir)+\"/p_raw_release.txt\").readlines())\n",
    "            else:\n",
    "                imposter_list_press.append(open(os.path.join(root,subdir)+\"/p_raw_press.txt\").readlines())\n",
    "                imposter_list_release.append(open(os.path.join(root,subdir)+\"/p_raw_release.txt\").readlines())\n",
    "#         ignore files that aren't timestampped keystroke data\n",
    "        except: \n",
    "            pass;"
   ]
  },
  {
   "cell_type": "code",
   "execution_count": 3,
   "metadata": {
    "collapsed": false
   },
   "outputs": [],
   "source": [
    "keymap={8:\"Backspace\", 9:\"Tab\", 13:\"Enter\", 16:\"Shift\", 17:\"Control\", 18:\"Alt\",\n",
    "    19:\"Pause\", 20:\"CapsLock\", 27:\"Esc\", 32:\"Spacebar\", 33:\"PageUp\",\n",
    "    34:\"PageDown\", 35:\"End\", 36:\"Home\", 37:\"Left\", 38:\"Up\", 39:\"Right\",\n",
    "    40:\"Down\", 45:\"Insert\", 46:\"Del\",\n",
    "    48:\"0\",49:\"1\",50:\"2\",51:\"3\",52:\"4\",53:\"5\",54:\"6\",55:\"7\",56:\"8\",57:\"9\",\n",
    "    65:\"A\", 66:\"B\", 67:\"C\", 68:\"D\", 69:\"E\", 70:\"F\", 71:\"G\", 72:\"H\", 73:\"I\",\n",
    "    74:\"J\", 75:\"K\", 76:\"L\", 77:\"M\", 78:\"N\", 79:\"O\", 80:\"P\", 81:\"Q\", 82:\"R\",\n",
    "    83:\"S\", 84:\"T\", 85:\"U\", 86:\"V\", 87:\"W\", 88:\"X\", 89:\"Y\", 90:\"Z\", 97:\"NUMPAD_1\", 98:\"NUMPAD_2\", 99:\"NUMPAD_3\", 105:\"NUMPAD_9\", 186:\";\",\n",
    "    189:\"-\", 187:\"=\", 222:\"'\", 191:\"/\", 188:\",\", 190:\".\"};"
   ]
  },
  {
   "cell_type": "code",
   "execution_count": 4,
   "metadata": {
    "collapsed": true
   },
   "outputs": [],
   "source": [
    "def parseKeystrokes(the_dataset):\n",
    "#     return list of key/timestamp tuples for each trial \n",
    "    return [[(keymap[int(n.split(\" \")[0])], n.split(\" \")[1].replace(\"\\n\",\"\")) for n in the_dataset[k]] for k in range(0,len(the_dataset))]"
   ]
  },
  {
   "cell_type": "code",
   "execution_count": 5,
   "metadata": {
    "collapsed": false
   },
   "outputs": [],
   "source": [
    "parsed_genuine_presses = parseKeystrokes(genuine_list_press)\n",
    "parsed_genuine_releases = parseKeystrokes(genuine_list_release)\n",
    "parsed_impostor_presses = parseKeystrokes(impostor_list_press)\n",
    "parsed_impostor_releases = parseKeystrokes(impostor_list_release)"
   ]
  },
  {
   "cell_type": "code",
   "execution_count": 6,
   "metadata": {
    "collapsed": false
   },
   "outputs": [
    {
     "data": {
      "text/plain": [
       "<matplotlib.axes._subplots.AxesSubplot at 0x114d689e8>"
      ]
     },
     "execution_count": 6,
     "metadata": {},
     "output_type": "execute_result"
    },
    {
     "data": {
      "image/png": "[encoded data removed]",
      "text/plain": [
       "<matplotlib.figure.Figure at 0x114da44e0>"
      ]
     },
     "metadata": {},
     "output_type": "display_data"
    }
   ],
   "source": [
    "%matplotlib inline\n",
    "pd.Series([len(x) for x in parsed_genuine_presses]).value_counts().plot(kind='bar', rot=0, title=\"Length of Genuine Presses\")"
   ]
  },
  {
   "cell_type": "code",
   "execution_count": 7,
   "metadata": {
    "collapsed": false
   },
   "outputs": [
    {
     "data": {
      "text/plain": [
       "<matplotlib.axes._subplots.AxesSubplot at 0x11729a320>"
      ]
     },
     "execution_count": 7,
     "metadata": {},
     "output_type": "execute_result"
    },
    {
     "data": {
      "image/png": "[encoded data removed]",
      "text/plain": [
       "<matplotlib.figure.Figure at 0x11727d668>"
      ]
     },
     "metadata": {},
     "output_type": "display_data"
    }
   ],
   "source": [
    "pd.Series([len(x) for x in parsed_genuine_releases]).value_counts().plot(kind='bar', rot=0, title=\"Length of Genuine Releases\")"
   ]
  },
  {
   "cell_type": "code",
   "execution_count": 8,
   "metadata": {
    "collapsed": false
   },
   "outputs": [],
   "source": [
    "def labelTheKeystrokes(parsedData,action):\n",
    "        labeled = [];\n",
    "        for k in parsedData:\n",
    "            temp = [];\n",
    "            for n in k:\n",
    "                temp.append(n+(action,));\n",
    "            labeled.append(temp);\n",
    "        return labeled;\n",
    "            \n",
    "            \n",
    "parsed_genuine_releases_labeled = labelTheKeystrokes(parsed_genuine_releases, \"RELEASE\");\n",
    "parsed_genuine_presses_labeled = labelTheKeystrokes(parsed_genuine_presses, \"PRESS\");\n"
   ]
  },
  {
   "cell_type": "code",
   "execution_count": 9,
   "metadata": {
    "collapsed": false,
    "scrolled": true
   },
   "outputs": [
    {
     "data": {
      "text/html": [
       "<div>\n",
       "<table border=\"1\" class=\"dataframe\">\n",
       "  <thead>\n",
       "    <tr style=\"text-align: right;\">\n",
       "      <th></th>\n",
       "      <th>0</th>\n",
       "      <th>1</th>\n",
       "      <th>2</th>\n",
       "    </tr>\n",
       "  </thead>\n",
       "  <tbody>\n",
       "    <tr>\n",
       "      <th>0</th>\n",
       "      <td>C</td>\n",
       "      <td>1287395362761</td>\n",
       "      <td>PRESS</td>\n",
       "    </tr>\n",
       "    <tr>\n",
       "      <th>1</th>\n",
       "      <td>Shift</td>\n",
       "      <td>1287395362825</td>\n",
       "      <td>PRESS</td>\n",
       "    </tr>\n",
       "    <tr>\n",
       "      <th>8</th>\n",
       "      <td>C</td>\n",
       "      <td>1287395362856</td>\n",
       "      <td>RELEASE</td>\n",
       "    </tr>\n",
       "    <tr>\n",
       "      <th>2</th>\n",
       "      <td>P</td>\n",
       "      <td>1287395362969</td>\n",
       "      <td>PRESS</td>\n",
       "    </tr>\n",
       "    <tr>\n",
       "      <th>9</th>\n",
       "      <td>Shift</td>\n",
       "      <td>1287395363016</td>\n",
       "      <td>RELEASE</td>\n",
       "    </tr>\n",
       "    <tr>\n",
       "      <th>10</th>\n",
       "      <td>P</td>\n",
       "      <td>1287395363064</td>\n",
       "      <td>RELEASE</td>\n",
       "    </tr>\n",
       "    <tr>\n",
       "      <th>3</th>\n",
       "      <td>C</td>\n",
       "      <td>1287395363113</td>\n",
       "      <td>PRESS</td>\n",
       "    </tr>\n",
       "    <tr>\n",
       "      <th>11</th>\n",
       "      <td>C</td>\n",
       "      <td>1287395363184</td>\n",
       "      <td>RELEASE</td>\n",
       "    </tr>\n",
       "    <tr>\n",
       "      <th>4</th>\n",
       "      <td>NUMPAD_9</td>\n",
       "      <td>1287395363489</td>\n",
       "      <td>PRESS</td>\n",
       "    </tr>\n",
       "    <tr>\n",
       "      <th>12</th>\n",
       "      <td>NUMPAD_9</td>\n",
       "      <td>1287395363560</td>\n",
       "      <td>RELEASE</td>\n",
       "    </tr>\n",
       "    <tr>\n",
       "      <th>5</th>\n",
       "      <td>NUMPAD_3</td>\n",
       "      <td>1287395363704</td>\n",
       "      <td>PRESS</td>\n",
       "    </tr>\n",
       "    <tr>\n",
       "      <th>13</th>\n",
       "      <td>NUMPAD_3</td>\n",
       "      <td>1287395363776</td>\n",
       "      <td>RELEASE</td>\n",
       "    </tr>\n",
       "    <tr>\n",
       "      <th>6</th>\n",
       "      <td>NUMPAD_1</td>\n",
       "      <td>1287395363897</td>\n",
       "      <td>PRESS</td>\n",
       "    </tr>\n",
       "    <tr>\n",
       "      <th>14</th>\n",
       "      <td>NUMPAD_1</td>\n",
       "      <td>1287395363968</td>\n",
       "      <td>RELEASE</td>\n",
       "    </tr>\n",
       "    <tr>\n",
       "      <th>7</th>\n",
       "      <td>NUMPAD_2</td>\n",
       "      <td>1287395363970</td>\n",
       "      <td>PRESS</td>\n",
       "    </tr>\n",
       "    <tr>\n",
       "      <th>15</th>\n",
       "      <td>NUMPAD_2</td>\n",
       "      <td>1287395364040</td>\n",
       "      <td>RELEASE</td>\n",
       "    </tr>\n",
       "  </tbody>\n",
       "</table>\n",
       "</div>"
      ],
      "text/plain": [
       "           0              1        2\n",
       "0          C  1287395362761    PRESS\n",
       "1      Shift  1287395362825    PRESS\n",
       "8          C  1287395362856  RELEASE\n",
       "2          P  1287395362969    PRESS\n",
       "9      Shift  1287395363016  RELEASE\n",
       "10         P  1287395363064  RELEASE\n",
       "3          C  1287395363113    PRESS\n",
       "11         C  1287395363184  RELEASE\n",
       "4   NUMPAD_9  1287395363489    PRESS\n",
       "12  NUMPAD_9  1287395363560  RELEASE\n",
       "5   NUMPAD_3  1287395363704    PRESS\n",
       "13  NUMPAD_3  1287395363776  RELEASE\n",
       "6   NUMPAD_1  1287395363897    PRESS\n",
       "14  NUMPAD_1  1287395363968  RELEASE\n",
       "7   NUMPAD_2  1287395363970    PRESS\n",
       "15  NUMPAD_2  1287395364040  RELEASE"
      ]
     },
     "execution_count": 9,
     "metadata": {},
     "output_type": "execute_result"
    }
   ],
   "source": [
    "# A single trial of keypresses & releases in the order they occured\n",
    "pd.DataFrame(parsed_genuine_presses_labeled[0]+parsed_genuine_releases_labeled[0]).sort_values([1])"
   ]
  },
  {
   "cell_type": "code",
   "execution_count": null,
   "metadata": {
    "collapsed": true
   },
   "outputs": [],
   "source": []
  }
 ],
 "metadata": {
  "anaconda-cloud": {},
  "kernelspec": {
   "display_name": "Python [Root]",
   "language": "python",
   "name": "Python [Root]"
  },
  "language_info": {
   "codemirror_mode": {
    "name": "ipython",
    "version": 3
   },
   "file_extension": ".py",
   "mimetype": "text/x-python",
   "name": "python",
   "nbconvert_exporter": "python",
   "pygments_lexer": "ipython3",
   "version": "3.5.2"
  }
 },
 "nbformat": 4,
 "nbformat_minor": 0
}
